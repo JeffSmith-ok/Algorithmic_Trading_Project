{
 "cells": [
  {
   "cell_type": "code",
   "execution_count": 39,
   "metadata": {},
   "outputs": [],
   "source": [
    "\n",
    "import numpy as np\n",
    "import pandas as pd\n",
    "import vectorbt as vbt"
   ]
  },
  {
   "cell_type": "code",
   "execution_count": 40,
   "metadata": {},
   "outputs": [],
   "source": [
    "split_kwargs = dict(\n",
    "    n=30, \n",
    "    window_len=365 * 2, \n",
    "    set_lens=(180,), \n",
    "    left_to_right=False\n",
    ")  # 30 windows, each 2 years long, reserve 180 days for test\n",
    "pf_kwargs = dict(\n",
    "    direction='both',  # long and short\n",
    "    freq='d'\n",
    ")\n",
    "windows = np.arange(10, 50)"
   ]
  },
  {
   "cell_type": "code",
   "execution_count": 41,
   "metadata": {},
   "outputs": [],
   "source": [
    "price = vbt.YFData.download('TQQQ').get('Close')\n"
   ]
  },
  {
   "cell_type": "code",
   "execution_count": 42,
   "metadata": {},
   "outputs": [
    {
     "data": {
      "image/svg+xml": "<svg class=\"main-svg\" xmlns=\"http://www.w3.org/2000/svg\" xmlns:xlink=\"http://www.w3.org/1999/xlink\" width=\"700\" height=\"350\" style=\"\" viewBox=\"0 0 700 350\"><rect x=\"0\" y=\"0\" width=\"700\" height=\"350\" style=\"fill: rgb(255, 255, 255); fill-opacity: 1;\"/><defs id=\"defs-f7523f\"><g class=\"clips\"><clipPath id=\"clipf7523fxyplot\" class=\"plotclip\"><rect width=\"640\" height=\"274\"/></clipPath><clipPath class=\"axesclip\" id=\"clipf7523fx\"><rect x=\"30\" y=\"0\" width=\"640\" height=\"350\"/></clipPath><clipPath class=\"axesclip\" id=\"clipf7523fy\"><rect x=\"0\" y=\"46\" width=\"700\" height=\"274\"/></clipPath><clipPath class=\"axesclip\" id=\"clipf7523fxy\"><rect x=\"30\" y=\"46\" width=\"640\" height=\"274\"/></clipPath></g><g class=\"gradients\"/><g class=\"patterns\"/></defs><g class=\"bglayer\"><rect class=\"bg\" x=\"30\" y=\"46\" width=\"640\" height=\"274\" style=\"fill: rgb(229, 236, 246); fill-opacity: 1; stroke-width: 0;\"/></g><g class=\"layer-below\"><g class=\"imagelayer\"/><g class=\"shapelayer\"/></g><g class=\"cartesianlayer\"><g class=\"subplot xy\"><g class=\"layer-subplot\"><g class=\"shapelayer\"/><g class=\"imagelayer\"/></g><g class=\"gridlayer\"><g class=\"x\"><path class=\"xgrid crisp\" transform=\"translate(125.57,0)\" d=\"M0,46v274\" style=\"stroke: rgb(255, 255, 255); stroke-opacity: 1; stroke-width: 1px;\"/><path class=\"xgrid crisp\" transform=\"translate(226.97,0)\" d=\"M0,46v274\" style=\"stroke: rgb(255, 255, 255); stroke-opacity: 1; stroke-width: 1px;\"/><path class=\"xgrid crisp\" transform=\"translate(328.22,0)\" d=\"M0,46v274\" style=\"stroke: rgb(255, 255, 255); stroke-opacity: 1; stroke-width: 1px;\"/><path class=\"xgrid crisp\" transform=\"translate(429.62,0)\" d=\"M0,46v274\" style=\"stroke: rgb(255, 255, 255); stroke-opacity: 1; stroke-width: 1px;\"/><path class=\"xgrid crisp\" transform=\"translate(530.88,0)\" d=\"M0,46v274\" style=\"stroke: rgb(255, 255, 255); stroke-opacity: 1; stroke-width: 1px;\"/><path class=\"xgrid crisp\" transform=\"translate(632.27,0)\" d=\"M0,46v274\" style=\"stroke: rgb(255, 255, 255); stroke-opacity: 1; stroke-width: 1px;\"/></g><g class=\"y\"><path class=\"ygrid crisp\" transform=\"translate(0,251.43)\" d=\"M30,0h640\" style=\"stroke: rgb(255, 255, 255); stroke-opacity: 1; stroke-width: 1px;\"/><path class=\"ygrid crisp\" transform=\"translate(0,195.51)\" d=\"M30,0h640\" style=\"stroke: rgb(255, 255, 255); stroke-opacity: 1; stroke-width: 1px;\"/><path class=\"ygrid crisp\" transform=\"translate(0,139.59)\" d=\"M30,0h640\" style=\"stroke: rgb(255, 255, 255); stroke-opacity: 1; stroke-width: 1px;\"/><path class=\"ygrid crisp\" transform=\"translate(0,83.66)\" d=\"M30,0h640\" style=\"stroke: rgb(255, 255, 255); stroke-opacity: 1; stroke-width: 1px;\"/></g></g><g class=\"zerolinelayer\"><path class=\"yzl zl crisp\" transform=\"translate(0,307.36)\" d=\"M30,0h640\" style=\"stroke: rgb(255, 255, 255); stroke-opacity: 1; stroke-width: 2px;\"/></g><path class=\"xlines-below\"/><path class=\"ylines-below\"/><g class=\"overlines-below\"/><g class=\"xaxislayer-below\"/><g class=\"yaxislayer-below\"/><g class=\"overaxes-below\"/><g class=\"plot\" transform=\"translate(30,46)\" clip-path=\"url(#clipf7523fxyplot)\"><g class=\"scatterlayer mlayer\"><g class=\"trace scatter traced9b659b1-6444-48d2-b37c-8ef4c757cb4e\" style=\"stroke-miterlimit: 2; opacity: 1;\"><g class=\"fills\"/><g class=\"errorbars\"/><g class=\"lines\"><path class=\"js-line\" d=\"M0,260.15L11.65,259.91L11.79,260.02L13.45,259.98L13.59,260.12L27.74,260.24L27.88,260.25L29.27,260.01L29.68,259.95L37.45,259.29L37.59,259.32L45.5,259.06L45.64,259.04L55.07,259.12L55.21,259.29L61.73,258.69L61.86,258.73L68.52,259.31L68.66,259.18L74.63,259.02L74.76,259.34L75.87,259.47L76.29,259.39L77.82,259.55L78.23,259.4L82.25,259.34L82.39,259.43L83.64,259.49L84.06,259.3L86.97,259.09L87.11,259.27L88.5,259.13L88.91,259.17L89.88,259.52L90.02,259.5L90.99,259.52L91.13,259.32L106.94,257.97L107.36,257.79L118.6,258.58L119.01,258.51L120.12,258.66L120.26,258.61L121.09,258.36L121.37,258.35L122.48,258.57L122.9,258.59L124.42,258.37L124.84,258.39L127.33,257.88L127.75,257.87L136.49,258.23L136.63,258.33L142.87,258.41L143.29,258.39L144.53,258.24L144.67,258.24L145.78,258.53L146.2,258.35L147.45,258.13L147.59,258.07L157.02,257.92L157.16,257.85L158.27,257.81L158.82,257.88L160.35,257.67L160.76,257.89L161.87,257.76L162.01,257.77L169.78,257.26L169.92,257.56L171.44,257.42L171.58,257.42L174.36,256.89L174.5,256.99L177.41,256.48L177.55,256.54L178.52,256.8L178.66,256.67L179.63,256.71L179.77,256.8L185.18,256.45L185.31,256.51L186.56,255.48L186.98,255.45L189.48,255.42L189.89,255.45L191,255.35L191.14,255.39L192.39,254.73L192.8,254.77L195.86,254.26L196.13,254.19L198.63,254.63L198.77,254.24L199.88,253.96L200.02,254.05L200.85,254.9L200.99,254.56L201.82,254.99L201.96,254.74L202.1,254.39L205.98,253.51L206.4,253.49L207.65,253.65L207.79,253.59L208.89,254.35L209.31,254.22L209.59,253.77L209.87,254.54L210.28,254.74L210.56,254.21L210.7,254.87L210.84,255.09L214.17,254.23L214.3,254.51L215.69,254.31L216.11,254.16L216.66,253.78L217.22,253.49L218.33,253.36L218.47,253.16L219.3,253L219.44,253.22L226.09,251.82L226.23,252.4L227.34,252.45L227.76,252.29L229.98,251.09L230.12,251.13L231.23,250.98L231.64,250.93L232.61,251.43L232.75,251.16L233.58,251.19L233.72,251.28L233.86,250.96L234,251.62L234.14,251.3L234.56,251.34L235.67,251.98L235.8,251.44L236.91,253.34L237.05,253.02L239.97,250.58L240.38,250.47L242.88,249.11L243.29,249.56L244.4,249.5L244.54,250.07L244.68,249.9L244.82,250.27L245.24,250.61L245.37,251.14L245.65,249.8L245.79,249.67L247.32,249.66L247.46,250.03L248.43,250.66L248.57,250.05L249.54,251.21L249.67,250.85L250.23,250.61L251.06,249.79L251.2,250.69L252.03,250.54L252.17,250.24L255.08,248.34L255.22,248.44L255.92,248.07L256.06,248.26L256.19,248.4L257.44,249.52L257.86,249.06L258.97,248.55L259.11,249.45L259.38,249.43L259.8,249L260.22,249.56L260.77,249.28L261.19,248.82L261.33,248.67L262.71,248.75L262.85,248.59L263.82,247.89L263.96,248.14L264.93,249.1L265.07,248.89L266.04,248.11L266.18,248.11L268.54,247.85L268.68,247.97L268.82,247.85L269.09,248.25L269.51,248.65L270.62,248.46L270.76,248.35L271.59,247.65L271.73,247.86L272.84,248.69L273.39,248.8L273.67,249.36L273.95,248.84L274.36,248.2L275.47,246.59L275.61,247.07L276.31,247.99L276.58,247.49L276.72,247.3L278.8,247.91L279.22,247.58L279.64,249.15L279.77,250.67L280.33,252.06L280.47,250.72L280.61,249.89L281.72,251.04L282.27,250.17L282.41,250.56L282.69,250.03L283.1,250.13L283.52,249.51L283.66,250.01L284.07,249.92L285.18,251.85L285.32,251.22L286.99,249.66L287.13,249.89L287.26,249.94L287.96,249.01L288.1,249.22L288.24,249.41L289.21,247.2L289.35,247.25L289.48,247.45L289.9,246.97L290.04,246.83L291.29,247.93L291.43,248.72L293.09,247.22L293.37,247.17L294.06,247.11L294.2,247.83L294.34,246.91L294.89,247.08L295.03,247.75L295.17,247.55L295.31,248.5L295.73,248.21L296,247.4L296.14,247.98L296.28,248.71L297.81,247.2L297.95,247.56L298.08,248.08L300.72,251.72L300.86,251.81L301.14,250.95L301.69,251.14L301.83,251.9L302.52,250.82L302.66,251.49L302.8,251.63L303.63,253.14L303.91,253.06L304.05,252.71L305.44,251.28L305.57,251.78L306.96,250.6L307.38,250.8L307.52,251.08L307.93,250.38L308.35,250.32L309.46,249.78L309.6,250.05L309.74,250.06L310.71,249.45L310.85,249.05L312.37,249.38L312.51,248.92L314.31,249.73L314.45,250.01L315.42,250.81L315.56,250.82L316.25,250.12L316.53,250.58L316.67,250.71L317.64,250.42L318.06,250.47L318.61,249.28L319.17,249.21L320.42,249.26L320.55,249.66L322.22,250.13L322.36,249.66L322.91,251.69L323.19,250.55L323.33,250.16L325.41,248.81L325.83,248.56L325.96,248.69L326.1,248.26L326.38,248.19L326.8,248.17L328.74,247.13L328.88,247.03L329.85,246.98L329.99,246.91L333.04,246.95L333.18,248.05L334.56,247.08L334.7,247L334.98,246.24L335.12,246.51L335.54,246.88L336.09,246.41L336.51,246.44L338.45,247.12L338.59,246.75L339,246.65L339.42,246.11L340.94,248.29L341.36,247.36L341.64,246.88L341.78,247.57L341.92,247.58L342.33,248.05L343.44,246.48L343.58,246.66L344.41,246.46L344.55,246.94L344.69,247.73L347.6,245.95L347.74,245.91L348.57,246.12L348.71,246.56L351.63,244.77L352.04,244.74L352.6,243.74L353.01,244.14L353.15,244.23L354.26,243.45L354.4,243.27L356.2,241.74L356.34,241.95L356.48,241.84L359.81,241.07L359.95,241.97L361.06,240.9L361.2,240.8L363,241.54L363.14,241.77L364.66,240.07L364.8,239.6L364.94,239.69L365.22,239.19L365.64,238.63L367.72,237.41L367.85,239.22L369.1,236.68L369.66,236.62L370.91,235.47L371.04,237.34L372.02,238.15L372.43,237.03L372.57,237.58L372.99,236.64L373.4,236.97L374.37,239.27L374.65,238.64L374.79,239.24L374.93,238.57L375.34,238.1L377.56,234.9L377.7,235.37L378.81,235.61L379.23,235.15L379.51,235.35L379.64,237.04L380.48,235.34L380.62,236.94L381.17,237.07L381.31,235.99L381.73,236.65L382.14,236.43L382.28,236.12L382.7,234.52L383.25,235.24L383.67,235.51L384.36,234.35L384.5,234.8L385.19,234.54L385.33,234.76L385.47,235.28L386.16,235.99L386.3,235.3L387.97,233.67L388.11,233.62L389.08,232.82L389.22,232.93L389.35,233.25L389.49,233.04L390.05,233.43L390.19,233.77L390.33,234.02L390.46,231.67L391.43,230.49L391.85,230.18L392.13,229.74L392.41,230.26L392.82,230.16L393.1,230.93L393.24,229.79L393.38,230.14L393.79,230.22L394.35,228.75L394.76,228.8L394.9,228.56L395.04,230.25L395.18,229.48L395.32,229.9L395.73,230.99L397.68,227.2L398.09,227.92L398.23,228.03L399.2,229.1L399.76,227.44L400.73,224.76L400.87,225.02L402.12,222.2L402.53,220.98L403.09,219.04L403.5,219.6L404.89,231.13L405.03,229.7L405.44,227.93L405.72,225.54L405.86,223.67L406.83,224.24L406.97,222.02L407.39,220.44L407.52,221.91L407.66,222.7L407.8,224.56L408.36,222.37L408.5,221.87L408.77,220.98L408.91,218.63L409.33,217.99L409.47,219.57L409.88,220.17L410.3,222.76L410.44,222.47L410.58,223.04L410.72,225.83L411.27,225.03L411.55,229.65L411.69,227.89L412.24,230.86L412.52,228.35L412.66,227.83L412.8,230.33L413.35,227.62L413.49,228.19L414.46,224.32L414.6,225.33L415.29,229.5L415.43,229.37L415.57,227.39L415.71,227.31L416.12,228.03L417.51,222.52L417.65,222.64L418.07,222.47L418.21,223.73L418.34,223.03L418.62,224.07L419.04,223.42L419.18,223.62L419.32,222.67L419.45,222.7L419.59,222.61L420.15,223.1L420.42,222.37L420.56,220.55L421.26,218.38L421.53,219.4L421.95,219.08L422.37,217.15L422.92,217.69L423.06,218.08L423.2,217.17L423.48,218.75L423.89,221.47L424.17,222.65L424.86,220.62L425,222.03L426.39,215.83L426.81,216.14L426.94,215.3L427.36,216.33L427.78,215.94L428.05,213.45L428.19,215.54L428.33,217.45L428.75,219.34L429.02,217.92L429.16,216.19L430.13,214.41L430.27,215.5L430.69,215.64L430.83,214.79L430.97,216.49L431.66,216.17L431.8,215.71L432.91,210.78L433.19,210.92L433.74,211.52L434.16,215.27L434.57,214.86L434.71,213.83L434.99,212.85L435.54,215.25L435.68,214.15L435.82,214.25L435.96,212.78L436.1,213.55L436.65,212.94L436.79,212.99L437.49,211.44L437.62,211.73L437.76,211.58L438.87,224.03L439.01,220.88L439.43,222.4L439.57,219.05L439.71,218.91L439.84,221.85L440.54,221.86L440.68,227.23L440.81,223.73L441.37,228.51L441.51,227.24L441.79,223.34L442.34,225.4L442.48,224.64L442.62,221.27L442.9,223.95L443.31,227.24L443.73,226.34L444.28,230.04L444.42,231.78L446.22,224.18L446.36,228.27L446.64,227.79L446.78,231.07L447.61,228.99L447.75,231.43L448.58,236.01L448.72,238.46L449.14,240.16L449.41,236.31L450.39,235.11L450.52,237.66L451.5,232.02L451.63,232.37L452.05,233.13L452.19,231.56L452.61,229.99L453.16,231.72L453.58,230.09L453.99,231.24L454.13,232.09L454.27,229.9L454.41,228.52L454.55,228.94L454.96,227.75L455.1,226.86L455.38,228.53L455.52,228.36L455.93,228.44L456.49,226.41L457.04,226.2L457.32,226.63L457.46,225.87L457.88,225.48L458.99,224.89L459.12,225.52L459.4,227.02L459.82,224.88L461.21,219.67L461.34,222.4L462.18,222.64L462.31,221.76L463.98,217.91L464.12,218.23L465.09,216.66L465.64,216.28L466.2,214.34L466.61,214.09L467.03,216.26L467.17,214.14L467.59,214.99L468.56,223.05L468.7,221.85L468.97,218.92L469.11,220.24L469.53,222.3L469.67,221.13L470.08,223.58L470.64,223.99L471.47,228.51L471.61,225.84L471.75,225.06L472.86,220.55L473,221.09L473.55,218.58L473.69,218.07L473.83,216.89L474.38,217.1L474.52,219.37L475.63,214.92L475.91,215.22L476.32,216.19L477.3,213.09L477.43,213.78L477.57,214.48L477.71,214.28L477.85,215.42L478.82,212.39L479.24,212.85L479.79,218.23L480.21,222.76L480.62,217.88L480.76,219.17L481.18,220.58L481.32,217.91L481.6,221.97L481.73,220.15L482.15,218.22L482.43,218.03L482.7,222.38L483.12,220.8L483.26,221.04L483.54,218.79L483.68,219.09L484.23,220.32L484.51,216.23L485.06,216.64L485.2,217.01L485.48,215.25L486.03,216.37L486.17,215.77L486.45,215.6L486.59,217.04L487,217L487.14,218.75L487.28,217.39L487.56,219.41L487.98,218.29L488.25,221.48L488.53,218.44L488.95,218.84L489.09,220.77L489.5,217.03L489.92,216.98L490.06,215.29L490.47,216.64L490.89,215.46L491.03,216.52L491.44,213.96L491.86,212.52L492,213.64L492.41,211.62L492.83,210.74L493.25,210.48L493.39,209.88L494.22,209.77L494.36,208.8L494.91,208.31L495.05,209.24L495.19,209.65L495.33,209.51L495.74,207.71L496.02,206.3L496.3,207.03L496.71,208.78L496.85,209.96L497.27,207.31L497.69,207.97L497.82,208.09L497.96,207.28L498.1,206.05L500.04,199.79L500.18,199.97L500.6,201.2L500.74,200.85L501.01,197.86L501.15,199.58L501.71,198.48L501.85,197.04L502.96,192.55L503.09,191.52L503.79,191.08L503.93,190.43L504.48,196.54L504.76,193.28L504.9,192.52L505.04,195.9L505.45,192.89L505.59,188.22L506.98,181.29L507.53,181.15L507.67,178.83L507.95,185.76L508.37,194.47L508.78,208.36L508.92,207.53L509.34,200.18L509.61,199.22L510.31,218.55L510.45,211.89L511.28,235.32L511.42,231.07L511.56,233.88L511.69,233.24L511.83,236.53L512.25,236.46L512.39,230.91L512.53,231.61L512.67,226.77L513.5,232.19L513.64,230.46L513.78,231.7L514.19,225.5L514.33,225.57L514.47,223.28L515.16,221.81L515.3,216.68L515.44,218.16L515.72,214.71L516.13,216.22L516.27,221.21L516.69,215.85L517.1,214.96L517.24,217.47L517.52,212.58L517.66,216.96L518.08,215.39L519.05,207.78L519.19,210.96L519.32,212.87L520.29,204.73L520.57,205.98L521.13,206.21L523.21,193.32L523.35,203.34L525.01,191.59L525.15,195.7L525.29,193.96L525.43,198.81L525.84,196.81L527.09,182.45L527.23,180.48L527.37,178.76L527.79,183.87L528.76,176.52L528.89,179.23L529.03,178.28L529.31,187.06L529.87,186.01L530,183.44L531.11,169.59L531.25,172.59L531.67,173.78L531.81,178.75L532.08,171.95L532.22,172.21L532.64,169.26L534.17,151.11L534.58,148.56L534.86,139.35L535,158.09L535.14,162.34L535.69,176.34L536.11,176.28L536.52,171.89L536.66,168.09L536.94,176.66L537.08,179.93L537.49,178.97L537.63,174.47L537.77,182.51L538.05,175.75L538.47,170.68L538.6,171.63L538.74,169.85L538.88,165.57L539.02,173.47L539.58,172.94L539.71,168.29L539.99,162.72L540.41,153.52L542.35,168.42L542.49,166.22L542.9,179.25L543.32,179.23L543.46,175.09L543.88,155.52L544.29,161.98L544.43,167.34L545.26,157.56L545.4,158.52L545.54,160.9L545.68,158.42L546.23,160.48L546.37,156.36L547.76,144.2L548.18,142.22L548.31,141.13L548.45,149.18L549.56,138.15L550.12,139.95L550.26,138.99L550.39,140.83L550.53,139.27L551.09,135.61L551.5,134.27L552.06,139.83L552.34,141.93L552.61,128.34L553.03,134.22L553.17,134.77L553.31,132.31L553.58,137.37L554.14,131.99L555.11,116.77L555.25,128.43L555.53,134.87L556.91,111.26L557.05,111.33L557.19,112.39L557.47,107.41L558.02,108.7L558.16,110.82L558.99,127.36L559.13,124.13L559.27,138.47L559.83,125.74L559.97,132.24L560.1,143.44L560.8,154.26L560.94,141.65L561.07,142.67L561.21,134.44L561.35,137.6L561.77,133.64L561.91,131.54L562.05,129.91L562.18,141.97L562.74,134.01L562.88,135.67L563.02,142.02L563.16,142.66L563.29,137.42L563.71,137.49L563.85,139.25L565.24,111.38L565.65,111.97L565.93,112.28L566.21,105.04L566.62,109.3L566.9,108.87L567.04,114.42L567.18,108.88L567.59,105.86L568.84,122.74L568.98,119.7L569.12,116.24L569.81,137.98L570.09,127.18L570.51,129.45L570.65,132.22L570.92,124.25L571.06,126.51L571.48,119.76L571.76,117.63L572.03,117.93L572.59,119.33L572.73,118.58L572.87,123.07L573.84,109.86L573.97,108.66L574.67,108.94L574.81,103.25L574.95,107.02L575.78,96.55L575.92,97.07L576.33,91.25L577.58,80.67L577.72,83.8L578.55,77.63L578.69,81.44L579.25,90.06L579.38,84.42L579.52,80.37L580.22,69.64L580.36,75.9L580.63,72.95L580.77,75.77L581.19,75.83L581.6,68.1L582.16,69.6L582.3,72.46L582.44,73.48L582.57,71.52L582.71,69.62L583.13,69.29L583.27,74.33L583.41,79.77L583.68,71.5L584.1,63.04L584.52,64.25L585.63,49.62L586.18,48.75L587.15,60.07L587.29,55.61L587.43,55.21L587.57,62.49L587.98,74.73L588.26,69.02L588.4,63.68L588.54,63.12L588.96,67.9L589.37,87.2L589.51,84.02L589.93,94.93L590.34,80.35L590.48,83.13L590.9,87.09L591.04,88.86L591.17,84.82L591.31,75.08L592.28,58.7L592.42,63.84L592.84,57.91L594.09,32.32L594.23,23.78L594.36,22.9L594.78,23.88L594.92,28.77L595.06,38.96L595.34,30.04L595.75,30.11L596.31,13.7L596.72,22.28L596.86,25.54L597,23.36L597.28,36.49L597.69,22.52L597.83,32.78L597.97,44.51L598.11,40.43L598.25,51.53L598.66,46.62L598.94,24L599.22,27.22L599.64,37.29L599.91,29.57L600.61,56.83L600.75,43.16L601.58,18.94L601.72,21.79L601.86,22.17L602.13,28.81L602.55,22.1L603.1,59.93L603.52,59.19L603.66,50.3L603.8,47.9L603.94,63.39L604.07,60.4L604.63,74.88L605.88,117.19L606.02,103.74L606.71,81L606.85,102.7L607.68,85.2L607.82,96.89L607.96,112.38L608.51,101.14L608.65,101.16L609.62,135.14L609.76,122.78L610.32,114.67L610.59,114.75L610.73,120.88L611.43,143.55L611.84,142.97L612.26,149.9L613.37,105.02L613.51,111.62L614.34,86.4L614.48,91.66L614.62,98.68L614.76,99.37L615.17,89.25L616.28,128.43L616.42,120.46L616.56,129.94L617.11,129.57L617.25,121.1L618.36,154.99L618.5,143.75L618.64,159.21L619.19,154.15L619.33,143.53L620.3,180.94L620.44,181.58L621.14,169.19L621.27,182.64L621.55,184.91L621.97,181.13L622.11,186.14L622.38,176.58L622.52,168.27L623.08,168.94L623.22,171.1L623.36,163.77L623.49,171.49L623.91,170.37L624.05,168.16L624.33,177.5L624.46,186.45L625.3,200.23L625.44,197.97L625.99,193.19L626.13,193.44L626.27,190.53L626.41,183.12L626.96,191.93L627.1,191.79L627.24,194.25L627.38,193.16L627.93,189.63L628.35,183.37L628.76,188.35L629.04,190.92L629.32,186.45L629.74,188.18L630.15,174.23L630.29,178.79L630.71,180.02L630.85,184.94L631.12,172.94L631.26,168.08L631.68,168.22L631.82,169.08L632.09,160.28L632.65,163.69L632.79,167.04L633.62,152.61L633.76,153.31L633.9,157.06L634.04,156.36L634.17,162.51L636.12,186.75L636.67,188.46L637.5,174.87L637.64,189.1L637.78,187.48L638.06,192.57L638.47,190.92L639.45,202.58L639.58,202.53L639.72,199.09L640,207.33\" style=\"vector-effect: non-scaling-stroke; fill: none; stroke: rgb(31, 119, 180); stroke-opacity: 1; stroke-width: 2px; opacity: 1;\"/></g><g class=\"points\"/><g class=\"text\"/></g></g></g><g class=\"overplot\"/><path class=\"xlines-above crisp\" d=\"M0,0\" style=\"fill: none;\"/><path class=\"ylines-above crisp\" d=\"M0,0\" style=\"fill: none;\"/><g class=\"overlines-above\"/><g class=\"xaxislayer-above\"><g class=\"xtick\"><text text-anchor=\"middle\" x=\"0\" y=\"333\" transform=\"translate(125.57,0)\" style=\"font-family: 'Open Sans', verdana, arial, sans-serif; font-size: 12px; fill: rgb(42, 63, 95); fill-opacity: 1; white-space: pre; opacity: 1;\">2012</text></g><g class=\"xtick\"><text text-anchor=\"middle\" x=\"0\" y=\"333\" style=\"font-family: 'Open Sans', verdana, arial, sans-serif; font-size: 12px; fill: rgb(42, 63, 95); fill-opacity: 1; white-space: pre; opacity: 1;\" transform=\"translate(226.97,0)\">2014</text></g><g class=\"xtick\"><text text-anchor=\"middle\" x=\"0\" y=\"333\" style=\"font-family: 'Open Sans', verdana, arial, sans-serif; font-size: 12px; fill: rgb(42, 63, 95); fill-opacity: 1; white-space: pre; opacity: 1;\" transform=\"translate(328.22,0)\">2016</text></g><g class=\"xtick\"><text text-anchor=\"middle\" x=\"0\" y=\"333\" style=\"font-family: 'Open Sans', verdana, arial, sans-serif; font-size: 12px; fill: rgb(42, 63, 95); fill-opacity: 1; white-space: pre; opacity: 1;\" transform=\"translate(429.62,0)\">2018</text></g><g class=\"xtick\"><text text-anchor=\"middle\" x=\"0\" y=\"333\" style=\"font-family: 'Open Sans', verdana, arial, sans-serif; font-size: 12px; fill: rgb(42, 63, 95); fill-opacity: 1; white-space: pre; opacity: 1;\" transform=\"translate(530.88,0)\">2020</text></g><g class=\"xtick\"><text text-anchor=\"middle\" x=\"0\" y=\"333\" style=\"font-family: 'Open Sans', verdana, arial, sans-serif; font-size: 12px; fill: rgb(42, 63, 95); fill-opacity: 1; white-space: pre; opacity: 1;\" transform=\"translate(632.27,0)\">2022</text></g></g><g class=\"yaxislayer-above\"><g class=\"ytick\"><text text-anchor=\"end\" x=\"29\" y=\"4.199999999999999\" transform=\"translate(0,307.36)\" style=\"font-family: 'Open Sans', verdana, arial, sans-serif; font-size: 12px; fill: rgb(42, 63, 95); fill-opacity: 1; white-space: pre; opacity: 1;\">0</text></g><g class=\"ytick\"><text text-anchor=\"end\" x=\"29\" y=\"4.199999999999999\" style=\"font-family: 'Open Sans', verdana, arial, sans-serif; font-size: 12px; fill: rgb(42, 63, 95); fill-opacity: 1; white-space: pre; opacity: 1;\" transform=\"translate(0,251.43)\">20</text></g><g class=\"ytick\"><text text-anchor=\"end\" x=\"29\" y=\"4.199999999999999\" style=\"font-family: 'Open Sans', verdana, arial, sans-serif; font-size: 12px; fill: rgb(42, 63, 95); fill-opacity: 1; white-space: pre; opacity: 1;\" transform=\"translate(0,195.51)\">40</text></g><g class=\"ytick\"><text text-anchor=\"end\" x=\"29\" y=\"4.199999999999999\" style=\"font-family: 'Open Sans', verdana, arial, sans-serif; font-size: 12px; fill: rgb(42, 63, 95); fill-opacity: 1; white-space: pre; opacity: 1;\" transform=\"translate(0,139.59)\">60</text></g><g class=\"ytick\"><text text-anchor=\"end\" x=\"29\" y=\"4.199999999999999\" style=\"font-family: 'Open Sans', verdana, arial, sans-serif; font-size: 12px; fill: rgb(42, 63, 95); fill-opacity: 1; white-space: pre; opacity: 1;\" transform=\"translate(0,83.66)\">80</text></g></g><g class=\"overaxes-above\"/></g></g><g class=\"polarlayer\"/><g class=\"smithlayer\"/><g class=\"ternarylayer\"/><g class=\"geolayer\"/><g class=\"funnelarealayer\"/><g class=\"pielayer\"/><g class=\"iciclelayer\"/><g class=\"treemaplayer\"/><g class=\"sunburstlayer\"/><g class=\"glimages\"/><defs id=\"topdefs-f7523f\"><g class=\"clips\"/><clipPath id=\"legendf7523f\"><rect width=\"78\" height=\"29\" x=\"0\" y=\"0\"/></clipPath></defs><g class=\"layer-above\"><g class=\"imagelayer\"/><g class=\"shapelayer\"/></g><g class=\"infolayer\"><g class=\"legend\" pointer-events=\"all\" transform=\"translate(592,11.519999999999996)\"><rect class=\"bg\" shape-rendering=\"crispEdges\" width=\"78\" height=\"29\" x=\"0\" y=\"0\" style=\"stroke: rgb(68, 68, 68); stroke-opacity: 1; fill: rgb(255, 255, 255); fill-opacity: 1; stroke-width: 0px;\"/><g class=\"scrollbox\" transform=\"\" clip-path=\"url(#legendf7523f)\"><g class=\"groups\"><g class=\"traces\" transform=\"translate(0,14.5)\" style=\"opacity: 1;\"><text class=\"legendtext\" text-anchor=\"start\" x=\"40\" y=\"4.680000000000001\" style=\"font-family: 'Open Sans', verdana, arial, sans-serif; font-size: 12px; fill: rgb(42, 63, 95); fill-opacity: 1; white-space: pre;\">Close</text><g class=\"layers\" style=\"opacity: 1;\"><g class=\"legendfill\"/><g class=\"legendlines\"><path class=\"js-line\" d=\"M5,0h30\" style=\"fill: none; stroke: rgb(31, 119, 180); stroke-opacity: 1; stroke-width: 2px;\"/></g><g class=\"legendsymbols\"><g class=\"legendpoints\"/></g></g><rect class=\"legendtoggle\" x=\"0\" y=\"-9.5\" width=\"74.859375\" height=\"19\" style=\"fill: rgb(0, 0, 0); fill-opacity: 0;\"/></g></g></g><rect class=\"scrollbar\" rx=\"20\" ry=\"3\" width=\"0\" height=\"0\" x=\"0\" y=\"0\" style=\"fill: rgb(128, 139, 164); fill-opacity: 1;\"/></g><g class=\"g-gtitle\"/><g class=\"g-xtitle\"/><g class=\"g-ytitle\"/></g></svg>"
     },
     "metadata": {},
     "output_type": "display_data"
    }
   ],
   "source": [
    "price.vbt.plot().show_svg()\n"
   ]
  },
  {
   "cell_type": "code",
   "execution_count": 43,
   "metadata": {},
   "outputs": [],
   "source": [
    "def roll_in_and_out_samples(price, **kwargs):\n",
    "    return price.vbt.rolling_split(**kwargs)"
   ]
  },
  {
   "cell_type": "code",
   "execution_count": 44,
   "metadata": {},
   "outputs": [
    {
     "data": {
      "image/svg+xml": "<svg class=\"main-svg\" xmlns=\"http://www.w3.org/2000/svg\" xmlns:xlink=\"http://www.w3.org/1999/xlink\" width=\"700\" height=\"215\" style=\"\" viewBox=\"0 0 700 215\"><rect x=\"0\" y=\"0\" width=\"700\" height=\"215\" style=\"fill: rgb(255, 255, 255); fill-opacity: 1;\"/><defs id=\"defs-36bb5e\"><g class=\"clips\"><clipPath id=\"clip36bb5exyplot\" class=\"plotclip\"><rect width=\"640\" height=\"141\"/></clipPath><clipPath class=\"axesclip\" id=\"clip36bb5ex\"><rect x=\"30\" y=\"0\" width=\"640\" height=\"215\"/></clipPath><clipPath class=\"axesclip\" id=\"clip36bb5ey\"><rect x=\"0\" y=\"44\" width=\"700\" height=\"141\"/></clipPath><clipPath class=\"axesclip\" id=\"clip36bb5exy\"><rect x=\"30\" y=\"44\" width=\"640\" height=\"141\"/></clipPath></g><g class=\"gradients\"><linearGradient x1=\"1\" x2=\"0\" y1=\"0\" y2=\"0\" id=\"g36bb5e-legendfill-70ba5c9e-bd27-4cc2-a187-851e0fb4cdd2\"><stop offset=\"0%\" stop-color=\"rgb(31, 119, 180)\" stop-opacity=\"1\"/><stop offset=\"100%\" stop-color=\"rgb(31, 119, 180)\" stop-opacity=\"1\"/></linearGradient><linearGradient x1=\"1\" x2=\"0\" y1=\"0\" y2=\"0\" id=\"g36bb5e-legendfill-a9247ee4-074a-4e8d-ad95-109375dc7659\"><stop offset=\"0%\" stop-color=\"rgb(255, 127, 14)\" stop-opacity=\"1\"/><stop offset=\"100%\" stop-color=\"rgb(255, 127, 14)\" stop-opacity=\"1\"/></linearGradient></g><g class=\"patterns\"/></defs><g class=\"bglayer\"><rect class=\"bg\" x=\"30\" y=\"44\" width=\"640\" height=\"141\" style=\"fill: rgb(229, 236, 246); fill-opacity: 1; stroke-width: 0;\"/></g><g class=\"layer-below\"><g class=\"imagelayer\"/><g class=\"shapelayer\"/></g><g class=\"cartesianlayer\"><g class=\"subplot xy\"><g class=\"layer-subplot\"><g class=\"shapelayer\"/><g class=\"imagelayer\"/></g><g class=\"gridlayer\"><g class=\"x\"><path class=\"xgrid crisp\" transform=\"translate(125.62,0)\" d=\"M0,44v141\" style=\"stroke: rgb(255, 255, 255); stroke-opacity: 1; stroke-width: 1px;\"/><path class=\"xgrid crisp\" transform=\"translate(226.99,0)\" d=\"M0,44v141\" style=\"stroke: rgb(255, 255, 255); stroke-opacity: 1; stroke-width: 1px;\"/><path class=\"xgrid crisp\" transform=\"translate(328.23,0)\" d=\"M0,44v141\" style=\"stroke: rgb(255, 255, 255); stroke-opacity: 1; stroke-width: 1px;\"/><path class=\"xgrid crisp\" transform=\"translate(429.6,0)\" d=\"M0,44v141\" style=\"stroke: rgb(255, 255, 255); stroke-opacity: 1; stroke-width: 1px;\"/><path class=\"xgrid crisp\" transform=\"translate(530.8399999999999,0)\" d=\"M0,44v141\" style=\"stroke: rgb(255, 255, 255); stroke-opacity: 1; stroke-width: 1px;\"/><path class=\"xgrid crisp\" transform=\"translate(632.21,0)\" d=\"M0,44v141\" style=\"stroke: rgb(255, 255, 255); stroke-opacity: 1; stroke-width: 1px;\"/></g><g class=\"y\"><path class=\"ygrid crisp\" transform=\"translate(0,182.65)\" d=\"M30,0h640\" style=\"stroke: rgb(255, 255, 255); stroke-opacity: 1; stroke-width: 1px;\"/><path class=\"ygrid crisp\" transform=\"translate(0,168.55)\" d=\"M30,0h640\" style=\"stroke: rgb(255, 255, 255); stroke-opacity: 1; stroke-width: 1px;\"/><path class=\"ygrid crisp\" transform=\"translate(0,154.45)\" d=\"M30,0h640\" style=\"stroke: rgb(255, 255, 255); stroke-opacity: 1; stroke-width: 1px;\"/><path class=\"ygrid crisp\" transform=\"translate(0,140.35)\" d=\"M30,0h640\" style=\"stroke: rgb(255, 255, 255); stroke-opacity: 1; stroke-width: 1px;\"/><path class=\"ygrid crisp\" transform=\"translate(0,126.25)\" d=\"M30,0h640\" style=\"stroke: rgb(255, 255, 255); stroke-opacity: 1; stroke-width: 1px;\"/><path class=\"ygrid crisp\" transform=\"translate(0,112.15)\" d=\"M30,0h640\" style=\"stroke: rgb(255, 255, 255); stroke-opacity: 1; stroke-width: 1px;\"/><path class=\"ygrid crisp\" transform=\"translate(0,98.05)\" d=\"M30,0h640\" style=\"stroke: rgb(255, 255, 255); stroke-opacity: 1; stroke-width: 1px;\"/><path class=\"ygrid crisp\" transform=\"translate(0,83.95)\" d=\"M30,0h640\" style=\"stroke: rgb(255, 255, 255); stroke-opacity: 1; stroke-width: 1px;\"/><path class=\"ygrid crisp\" transform=\"translate(0,69.85)\" d=\"M30,0h640\" style=\"stroke: rgb(255, 255, 255); stroke-opacity: 1; stroke-width: 1px;\"/><path class=\"ygrid crisp\" transform=\"translate(0,55.75)\" d=\"M30,0h640\" style=\"stroke: rgb(255, 255, 255); stroke-opacity: 1; stroke-width: 1px;\"/></g></g><g class=\"zerolinelayer\"/><path class=\"xlines-below\"/><path class=\"ylines-below\"/><g class=\"overlines-below\"/><g class=\"xaxislayer-below\"/><g class=\"yaxislayer-below\"/><g class=\"overaxes-below\"/><g class=\"plot\" transform=\"translate(30,44)\" clip-path=\"url(#clip36bb5exyplot)\"><g class=\"heatmaplayer mlayer\"><g class=\"hm\"><image xmlns=\"http://www.w3.org/2000/svg\" preserveAspectRatio=\"none\" height=\"141\" width=\"640\" x=\"0\" y=\"0\" xlink:href=\"data:image/png;base64,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\" style=\"opacity: 1;\"/></g><g class=\"hm\"><image xmlns=\"http://www.w3.org/2000/svg\" preserveAspectRatio=\"none\" height=\"141\" width=\"640\" x=\"0\" y=\"0\" xlink:href=\"data:image/png;base64,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\" style=\"opacity: 1;\"/></g></g></g><g class=\"overplot\"/><path class=\"xlines-above crisp\" d=\"M0,0\" style=\"fill: none;\"/><path class=\"ylines-above crisp\" d=\"M0,0\" style=\"fill: none;\"/><g class=\"overlines-above\"/><g class=\"xaxislayer-above\"><g class=\"xtick\"><text text-anchor=\"middle\" x=\"0\" y=\"198\" transform=\"translate(125.62,0)\" style=\"font-family: 'Open Sans', verdana, arial, sans-serif; font-size: 12px; fill: rgb(42, 63, 95); fill-opacity: 1; white-space: pre; opacity: 1;\">2012</text></g><g class=\"xtick\"><text text-anchor=\"middle\" x=\"0\" y=\"198\" style=\"font-family: 'Open Sans', verdana, arial, sans-serif; font-size: 12px; fill: rgb(42, 63, 95); fill-opacity: 1; white-space: pre; opacity: 1;\" transform=\"translate(226.99,0)\">2014</text></g><g class=\"xtick\"><text text-anchor=\"middle\" x=\"0\" y=\"198\" style=\"font-family: 'Open Sans', verdana, arial, sans-serif; font-size: 12px; fill: rgb(42, 63, 95); fill-opacity: 1; white-space: pre; opacity: 1;\" transform=\"translate(328.23,0)\">2016</text></g><g class=\"xtick\"><text text-anchor=\"middle\" x=\"0\" y=\"198\" style=\"font-family: 'Open Sans', verdana, arial, sans-serif; font-size: 12px; fill: rgb(42, 63, 95); fill-opacity: 1; white-space: pre; opacity: 1;\" transform=\"translate(429.6,0)\">2018</text></g><g class=\"xtick\"><text text-anchor=\"middle\" x=\"0\" y=\"198\" style=\"font-family: 'Open Sans', verdana, arial, sans-serif; font-size: 12px; fill: rgb(42, 63, 95); fill-opacity: 1; white-space: pre; opacity: 1;\" transform=\"translate(530.8399999999999,0)\">2020</text></g><g class=\"xtick\"><text text-anchor=\"middle\" x=\"0\" y=\"198\" style=\"font-family: 'Open Sans', verdana, arial, sans-serif; font-size: 12px; fill: rgb(42, 63, 95); fill-opacity: 1; white-space: pre; opacity: 1;\" transform=\"translate(632.21,0)\">2022</text></g></g><g class=\"yaxislayer-above\"><g class=\"ytick\"><text text-anchor=\"end\" x=\"29\" y=\"4.199999999999999\" transform=\"translate(0,182.65)\" style=\"font-family: 'Open Sans', verdana, arial, sans-serif; font-size: 12px; fill: rgb(42, 63, 95); fill-opacity: 1; white-space: pre; opacity: 1;\">29</text></g><g class=\"ytick\"><text text-anchor=\"end\" x=\"29\" y=\"4.199999999999999\" transform=\"translate(0,168.55)\" style=\"font-family: 'Open Sans', verdana, arial, sans-serif; font-size: 12px; fill: rgb(42, 63, 95); fill-opacity: 1; white-space: pre; opacity: 1;\">26</text></g><g class=\"ytick\"><text text-anchor=\"end\" x=\"29\" y=\"4.199999999999999\" transform=\"translate(0,154.45)\" style=\"font-family: 'Open Sans', verdana, arial, sans-serif; font-size: 12px; fill: rgb(42, 63, 95); fill-opacity: 1; white-space: pre; opacity: 1;\">23</text></g><g class=\"ytick\"><text text-anchor=\"end\" x=\"29\" y=\"4.199999999999999\" transform=\"translate(0,140.35)\" style=\"font-family: 'Open Sans', verdana, arial, sans-serif; font-size: 12px; fill: rgb(42, 63, 95); fill-opacity: 1; white-space: pre; opacity: 1;\">20</text></g><g class=\"ytick\"><text text-anchor=\"end\" x=\"29\" y=\"4.199999999999999\" transform=\"translate(0,126.25)\" style=\"font-family: 'Open Sans', verdana, arial, sans-serif; font-size: 12px; fill: rgb(42, 63, 95); fill-opacity: 1; white-space: pre; opacity: 1;\">17</text></g><g class=\"ytick\"><text text-anchor=\"end\" x=\"29\" y=\"4.199999999999999\" transform=\"translate(0,112.15)\" style=\"font-family: 'Open Sans', verdana, arial, sans-serif; font-size: 12px; fill: rgb(42, 63, 95); fill-opacity: 1; white-space: pre; opacity: 1;\">14</text></g><g class=\"ytick\"><text text-anchor=\"end\" x=\"29\" y=\"4.199999999999999\" transform=\"translate(0,98.05)\" style=\"font-family: 'Open Sans', verdana, arial, sans-serif; font-size: 12px; fill: rgb(42, 63, 95); fill-opacity: 1; white-space: pre; opacity: 1;\">11</text></g><g class=\"ytick\"><text text-anchor=\"end\" x=\"29\" y=\"4.199999999999999\" transform=\"translate(0,83.95)\" style=\"font-family: 'Open Sans', verdana, arial, sans-serif; font-size: 12px; fill: rgb(42, 63, 95); fill-opacity: 1; white-space: pre; opacity: 1;\">8</text></g><g class=\"ytick\"><text text-anchor=\"end\" x=\"29\" y=\"4.199999999999999\" transform=\"translate(0,69.85)\" style=\"font-family: 'Open Sans', verdana, arial, sans-serif; font-size: 12px; fill: rgb(42, 63, 95); fill-opacity: 1; white-space: pre; opacity: 1;\">5</text></g><g class=\"ytick\"><text text-anchor=\"end\" x=\"29\" y=\"4.199999999999999\" transform=\"translate(0,55.75)\" style=\"font-family: 'Open Sans', verdana, arial, sans-serif; font-size: 12px; fill: rgb(42, 63, 95); fill-opacity: 1; white-space: pre; opacity: 1;\">2</text></g></g><g class=\"overaxes-above\"/></g></g><g class=\"polarlayer\"/><g class=\"smithlayer\"/><g class=\"ternarylayer\"/><g class=\"geolayer\"/><g class=\"funnelarealayer\"/><g class=\"pielayer\"/><g class=\"iciclelayer\"/><g class=\"treemaplayer\"/><g class=\"sunburstlayer\"/><g class=\"glimages\"/><defs id=\"topdefs-36bb5e\"><g class=\"clips\"/><clipPath id=\"legend36bb5e\"><rect width=\"218\" height=\"29\" x=\"0\" y=\"0\"/></clipPath></defs><g class=\"layer-above\"><g class=\"imagelayer\"/><g class=\"shapelayer\"/></g><g class=\"infolayer\"><g class=\"legend\" pointer-events=\"all\" transform=\"translate(452,12.18)\"><rect class=\"bg\" shape-rendering=\"crispEdges\" width=\"218\" height=\"29\" x=\"0\" y=\"0\" style=\"stroke: rgb(68, 68, 68); stroke-opacity: 1; fill: rgb(255, 255, 255); fill-opacity: 1; stroke-width: 0px;\"/><g class=\"scrollbox\" transform=\"\" clip-path=\"url(#legend36bb5e)\"><g class=\"groups\"><g class=\"traces\" transform=\"translate(0,14.5)\" style=\"opacity: 1;\"><text class=\"legendtext\" text-anchor=\"start\" x=\"40\" y=\"4.680000000000001\" style=\"font-family: 'Open Sans', verdana, arial, sans-serif; font-size: 12px; fill: rgb(42, 63, 95); fill-opacity: 1; white-space: pre;\">in-sample</text><g class=\"layers\" style=\"opacity: 1;\"><g class=\"legendfill\"/><g class=\"legendlines\"/><g class=\"legendsymbols\"><g class=\"legendpoints\"><path class=\"legend3dandfriends\" transform=\"translate(20,0)\" d=\"M-15,-2V4H15V-2Z\" style=\"stroke-miterlimit: 1; fill: url('#g36bb5e-legendfill-70ba5c9e-bd27-4cc2-a187-851e0fb4cdd2');\"/></g></g></g><rect class=\"legendtoggle\" x=\"0\" y=\"-9.5\" width=\"101.890625\" height=\"19\" style=\"fill: rgb(0, 0, 0); fill-opacity: 0;\"/></g><g class=\"traces\" transform=\"translate(104.390625,14.5)\" style=\"opacity: 1;\"><text class=\"legendtext\" text-anchor=\"start\" x=\"40\" y=\"4.680000000000001\" style=\"font-family: 'Open Sans', verdana, arial, sans-serif; font-size: 12px; fill: rgb(42, 63, 95); fill-opacity: 1; white-space: pre;\">out-sample</text><g class=\"layers\" style=\"opacity: 1;\"><g class=\"legendfill\"/><g class=\"legendlines\"/><g class=\"legendsymbols\"><g class=\"legendpoints\"><path class=\"legend3dandfriends\" transform=\"translate(20,0)\" d=\"M-15,-2V4H15V-2Z\" style=\"stroke-miterlimit: 1; fill: url('#g36bb5e-legendfill-a9247ee4-074a-4e8d-ad95-109375dc7659');\"/></g></g></g><rect class=\"legendtoggle\" x=\"0\" y=\"-9.5\" width=\"110.375\" height=\"19\" style=\"fill: rgb(0, 0, 0); fill-opacity: 0;\"/></g></g></g><rect class=\"scrollbar\" rx=\"20\" ry=\"3\" width=\"0\" height=\"0\" x=\"0\" y=\"0\" style=\"fill: rgb(128, 139, 164); fill-opacity: 1;\"/></g><g class=\"g-gtitle\"/><g class=\"g-xtitle\"/><g class=\"g-ytitle\"/></g></svg>"
     },
     "metadata": {},
     "output_type": "display_data"
    }
   ],
   "source": [
    "roll_in_and_out_samples(price, **split_kwargs, plot=True, trace_names=['in-sample', 'out-sample']).show_svg()\n"
   ]
  },
  {
   "cell_type": "code",
   "execution_count": 45,
   "metadata": {},
   "outputs": [
    {
     "name": "stdout",
     "output_type": "stream",
     "text": [
      "(550, 30) 30\n",
      "(180, 30) 30\n"
     ]
    }
   ],
   "source": [
    "(in_price, in_indexes), (out_price, out_indexes) = roll_in_and_out_samples(price, **split_kwargs)\n",
    "\n",
    "print(in_price.shape, len(in_indexes))  # in-sample\n",
    "print(out_price.shape, len(out_indexes))  # out-sample"
   ]
  },
  {
   "cell_type": "code",
   "execution_count": 46,
   "metadata": {},
   "outputs": [],
   "source": [
    "def simulate_holding(price, **kwargs):\n",
    "    pf = vbt.Portfolio.from_holding(price, **kwargs)\n",
    "    return pf.sharpe_ratio()"
   ]
  },
  {
   "cell_type": "code",
   "execution_count": 47,
   "metadata": {},
   "outputs": [
    {
     "name": "stdout",
     "output_type": "stream",
     "text": [
      "split_idx\n",
      "0     1.292969\n",
      "1     1.198677\n",
      "2     0.927726\n",
      "3     0.640757\n",
      "4     1.115918\n",
      "5     1.587914\n",
      "6     1.454048\n",
      "7     2.001163\n",
      "8     1.929058\n",
      "9     2.269372\n",
      "10    1.743879\n",
      "11    1.268225\n",
      "12    0.671050\n",
      "13    0.872851\n",
      "14    0.782877\n",
      "15    0.932553\n",
      "16    1.202724\n",
      "17    1.452214\n",
      "18    1.831442\n",
      "19    2.326225\n",
      "20    1.005580\n",
      "21    1.113889\n",
      "22    1.030479\n",
      "23    1.104290\n",
      "24    0.704107\n",
      "25    0.989264\n",
      "26    1.350514\n",
      "27    1.348682\n",
      "28    1.504902\n",
      "29    1.484911\n",
      "Name: sharpe_ratio, dtype: float64\n"
     ]
    }
   ],
   "source": [
    "in_hold_sharpe = simulate_holding(in_price, **pf_kwargs)\n",
    "\n",
    "print(in_hold_sharpe)"
   ]
  },
  {
   "cell_type": "code",
   "execution_count": 48,
   "metadata": {},
   "outputs": [],
   "source": [
    "def simulate_all_params(price, windows, **kwargs):\n",
    "    fast_ma, slow_ma = vbt.MA.run_combs(price, windows, r=2, short_names=['fast', 'slow'])\n",
    "    entries = fast_ma.ma_crossed_above(slow_ma)\n",
    "    exits = fast_ma.ma_crossed_below(slow_ma)\n",
    "    pf = vbt.Portfolio.from_signals(price, entries, exits, **kwargs)\n",
    "    return pf.sharpe_ratio()"
   ]
  },
  {
   "cell_type": "code",
   "execution_count": 49,
   "metadata": {},
   "outputs": [
    {
     "name": "stdout",
     "output_type": "stream",
     "text": [
      "fast_window  slow_window  split_idx\n",
      "10           11           0           -0.409212\n",
      "                          1            0.019522\n",
      "                          2            0.103225\n",
      "                          3            0.198984\n",
      "                          4            0.179493\n",
      "                                         ...   \n",
      "48           49           25          -0.666540\n",
      "                          26          -0.705868\n",
      "                          27          -0.739109\n",
      "                          28          -0.805783\n",
      "                          29          -0.806083\n",
      "Name: sharpe_ratio, Length: 23400, dtype: float64\n"
     ]
    }
   ],
   "source": [
    "# Simulate all params for in-sample ranges\n",
    "in_sharpe = simulate_all_params(in_price, windows, **pf_kwargs)\n",
    "\n",
    "print(in_sharpe)"
   ]
  },
  {
   "cell_type": "code",
   "execution_count": 50,
   "metadata": {},
   "outputs": [],
   "source": [
    "def get_best_index(performance, higher_better=True):\n",
    "    if higher_better:\n",
    "        return performance[performance.groupby('split_idx').idxmax()].index\n",
    "    return performance[performance.groupby('split_idx').idxmin()].index"
   ]
  },
  {
   "cell_type": "code",
   "execution_count": 51,
   "metadata": {},
   "outputs": [
    {
     "name": "stdout",
     "output_type": "stream",
     "text": [
      "MultiIndex([(44, 49,  0),\n",
      "            (15, 21,  1),\n",
      "            (15, 21,  2),\n",
      "            (15, 21,  3),\n",
      "            (28, 45,  4),\n",
      "            (21, 32,  5),\n",
      "            (20, 39,  6),\n",
      "            (20, 39,  7),\n",
      "            (23, 24,  8),\n",
      "            (23, 24,  9),\n",
      "            (22, 24, 10),\n",
      "            (19, 28, 11),\n",
      "            (19, 28, 12),\n",
      "            (19, 21, 13),\n",
      "            (39, 45, 14),\n",
      "            (40, 44, 15),\n",
      "            (40, 45, 16),\n",
      "            (39, 47, 17),\n",
      "            (41, 42, 18),\n",
      "            (33, 47, 19),\n",
      "            (33, 47, 20),\n",
      "            (32, 45, 21),\n",
      "            (34, 40, 22),\n",
      "            (33, 47, 23),\n",
      "            (16, 34, 24),\n",
      "            (11, 14, 25),\n",
      "            (11, 14, 26),\n",
      "            (10, 16, 27),\n",
      "            (12, 19, 28),\n",
      "            (11, 14, 29)],\n",
      "           names=['fast_window', 'slow_window', 'split_idx'])\n"
     ]
    }
   ],
   "source": [
    "in_best_index = get_best_index(in_sharpe)\n",
    "\n",
    "print(in_best_index)"
   ]
  },
  {
   "cell_type": "code",
   "execution_count": 52,
   "metadata": {},
   "outputs": [],
   "source": [
    "def get_best_params(best_index, level_name):\n",
    "    return best_index.get_level_values(level_name).to_numpy()"
   ]
  },
  {
   "cell_type": "code",
   "execution_count": 53,
   "metadata": {},
   "outputs": [
    {
     "name": "stdout",
     "output_type": "stream",
     "text": [
      "[[44 49]\n",
      " [15 21]\n",
      " [15 21]\n",
      " [15 21]\n",
      " [28 45]\n",
      " [21 32]\n",
      " [20 39]\n",
      " [20 39]\n",
      " [23 24]\n",
      " [23 24]\n",
      " [22 24]\n",
      " [19 28]\n",
      " [19 28]\n",
      " [19 21]\n",
      " [39 45]\n",
      " [40 44]\n",
      " [40 45]\n",
      " [39 47]\n",
      " [41 42]\n",
      " [33 47]\n",
      " [33 47]\n",
      " [32 45]\n",
      " [34 40]\n",
      " [33 47]\n",
      " [16 34]\n",
      " [11 14]\n",
      " [11 14]\n",
      " [10 16]\n",
      " [12 19]\n",
      " [11 14]]\n"
     ]
    }
   ],
   "source": [
    "in_best_fast_windows = get_best_params(in_best_index, 'fast_window')\n",
    "in_best_slow_windows = get_best_params(in_best_index, 'slow_window')\n",
    "in_best_window_pairs = np.array(list(zip(in_best_fast_windows, in_best_slow_windows)))\n",
    "\n",
    "print(in_best_window_pairs)"
   ]
  },
  {
   "cell_type": "code",
   "execution_count": 54,
   "metadata": {},
   "outputs": [
    {
     "data": {
      "image/svg+xml": "<svg class=\"main-svg\" xmlns=\"http://www.w3.org/2000/svg\" xmlns:xlink=\"http://www.w3.org/1999/xlink\" width=\"700\" height=\"350\" style=\"\" viewBox=\"0 0 700 350\"><rect x=\"0\" y=\"0\" width=\"700\" height=\"350\" style=\"fill: rgb(255, 255, 255); fill-opacity: 1;\"/><defs id=\"defs-fff2d2\"><g class=\"clips\"><clipPath id=\"clipfff2d2xyplot\" class=\"plotclip\"><rect width=\"640\" height=\"274\"/></clipPath><clipPath class=\"axesclip\" id=\"clipfff2d2x\"><rect x=\"30\" y=\"0\" width=\"640\" height=\"350\"/></clipPath><clipPath class=\"axesclip\" id=\"clipfff2d2y\"><rect x=\"0\" y=\"46\" width=\"700\" height=\"274\"/></clipPath><clipPath class=\"axesclip\" id=\"clipfff2d2xy\"><rect x=\"30\" y=\"46\" width=\"640\" height=\"274\"/></clipPath></g><g class=\"gradients\"/><g class=\"patterns\"/></defs><g class=\"bglayer\"><rect class=\"bg\" x=\"30\" y=\"46\" width=\"640\" height=\"274\" style=\"fill: rgb(229, 236, 246); fill-opacity: 1; stroke-width: 0;\"/></g><g class=\"layer-below\"><g class=\"imagelayer\"/><g class=\"shapelayer\"/></g><g class=\"cartesianlayer\"><g class=\"subplot xy\"><g class=\"layer-subplot\"><g class=\"shapelayer\"/><g class=\"imagelayer\"/></g><g class=\"gridlayer\"><g class=\"x\"><path class=\"xgrid crisp\" transform=\"translate(140.34,0)\" d=\"M0,46v274\" style=\"stroke: rgb(255, 255, 255); stroke-opacity: 1; stroke-width: 1px;\"/><path class=\"xgrid crisp\" transform=\"translate(250.69,0)\" d=\"M0,46v274\" style=\"stroke: rgb(255, 255, 255); stroke-opacity: 1; stroke-width: 1px;\"/><path class=\"xgrid crisp\" transform=\"translate(361.03,0)\" d=\"M0,46v274\" style=\"stroke: rgb(255, 255, 255); stroke-opacity: 1; stroke-width: 1px;\"/><path class=\"xgrid crisp\" transform=\"translate(471.38,0)\" d=\"M0,46v274\" style=\"stroke: rgb(255, 255, 255); stroke-opacity: 1; stroke-width: 1px;\"/><path class=\"xgrid crisp\" transform=\"translate(581.72,0)\" d=\"M0,46v274\" style=\"stroke: rgb(255, 255, 255); stroke-opacity: 1; stroke-width: 1px;\"/></g><g class=\"y\"><path class=\"ygrid crisp\" transform=\"translate(0,306.3)\" d=\"M30,0h640\" style=\"stroke: rgb(255, 255, 255); stroke-opacity: 1; stroke-width: 1px;\"/><path class=\"ygrid crisp\" transform=\"translate(0,243.07)\" d=\"M30,0h640\" style=\"stroke: rgb(255, 255, 255); stroke-opacity: 1; stroke-width: 1px;\"/><path class=\"ygrid crisp\" transform=\"translate(0,179.84)\" d=\"M30,0h640\" style=\"stroke: rgb(255, 255, 255); stroke-opacity: 1; stroke-width: 1px;\"/><path class=\"ygrid crisp\" transform=\"translate(0,116.61)\" d=\"M30,0h640\" style=\"stroke: rgb(255, 255, 255); stroke-opacity: 1; stroke-width: 1px;\"/><path class=\"ygrid crisp\" transform=\"translate(0,53.38)\" d=\"M30,0h640\" style=\"stroke: rgb(255, 255, 255); stroke-opacity: 1; stroke-width: 1px;\"/></g></g><g class=\"zerolinelayer\"><path class=\"xzl zl crisp\" transform=\"translate(30,0)\" d=\"M0,46v274\" style=\"stroke: rgb(255, 255, 255); stroke-opacity: 1; stroke-width: 2px;\"/></g><path class=\"xlines-below\"/><path class=\"ylines-below\"/><g class=\"overlines-below\"/><g class=\"xaxislayer-below\"/><g class=\"yaxislayer-below\"/><g class=\"overaxes-below\"/><g class=\"plot\" transform=\"translate(30,46)\" clip-path=\"url(#clipfff2d2xyplot)\"><g class=\"scatterlayer mlayer\"><g class=\"trace scatter tracea728b993-048f-48eb-9bbf-d59d61db5504\" style=\"stroke-miterlimit: 2; opacity: 1;\"><g class=\"fills\"/><g class=\"errorbars\"/><g class=\"lines\"><path class=\"js-line\" d=\"M0,45.32L22.07,228.68L44.14,228.68L66.21,228.68L88.28,146.48L110.34,190.75L132.41,197.07L154.48,197.07L176.55,178.1L198.62,178.1L220.69,184.42L242.76,203.39L264.83,203.39L286.9,203.39L308.97,76.93L331.03,70.61L353.1,70.61L375.17,76.93L397.24,64.28L419.31,114.87L441.38,114.87L463.45,121.19L485.52,108.55L507.59,114.87L529.66,222.36L551.72,253.98L573.79,253.98L595.86,260.3L617.93,247.65L640,253.98\" style=\"vector-effect: non-scaling-stroke; fill: none; stroke: rgb(31, 119, 180); stroke-opacity: 1; stroke-width: 2px; opacity: 1;\"/></g><g class=\"points\"/><g class=\"text\"/></g><g class=\"trace scatter trace0d3f4453-fb31-42b7-bdba-40b73fb1e4f7\" style=\"stroke-miterlimit: 2; opacity: 1;\"><g class=\"fills\"/><g class=\"errorbars\"/><g class=\"lines\"><path class=\"js-line\" d=\"M0,13.7L22.07,190.75L44.14,190.75L66.21,190.75L88.28,38.99L110.34,121.19L132.41,76.93L154.48,76.93L176.55,171.78L220.69,171.78L242.76,146.48L264.83,146.48L286.9,190.75L308.97,38.99L331.03,45.32L353.1,38.99L375.17,26.35L397.24,57.96L419.31,26.35L441.38,26.35L463.45,38.99L485.52,70.61L507.59,26.35L529.66,108.55L551.72,235.01L573.79,235.01L595.86,222.36L617.93,203.39L640,235.01\" style=\"vector-effect: non-scaling-stroke; fill: none; stroke: rgb(255, 127, 14); stroke-opacity: 1; stroke-width: 2px; opacity: 1;\"/></g><g class=\"points\"/><g class=\"text\"/></g></g></g><g class=\"overplot\"/><path class=\"xlines-above crisp\" d=\"M0,0\" style=\"fill: none;\"/><path class=\"ylines-above crisp\" d=\"M0,0\" style=\"fill: none;\"/><g class=\"overlines-above\"/><g class=\"xaxislayer-above\"><g class=\"xtick\"><text text-anchor=\"middle\" x=\"0\" y=\"333\" transform=\"translate(30,0)\" style=\"font-family: 'Open Sans', verdana, arial, sans-serif; font-size: 12px; fill: rgb(42, 63, 95); fill-opacity: 1; white-space: pre; opacity: 1;\">0</text></g><g class=\"xtick\"><text text-anchor=\"middle\" x=\"0\" y=\"333\" style=\"font-family: 'Open Sans', verdana, arial, sans-serif; font-size: 12px; fill: rgb(42, 63, 95); fill-opacity: 1; white-space: pre; opacity: 1;\" transform=\"translate(140.34,0)\">5</text></g><g class=\"xtick\"><text text-anchor=\"middle\" x=\"0\" y=\"333\" style=\"font-family: 'Open Sans', verdana, arial, sans-serif; font-size: 12px; fill: rgb(42, 63, 95); fill-opacity: 1; white-space: pre; opacity: 1;\" transform=\"translate(250.69,0)\">10</text></g><g class=\"xtick\"><text text-anchor=\"middle\" x=\"0\" y=\"333\" style=\"font-family: 'Open Sans', verdana, arial, sans-serif; font-size: 12px; fill: rgb(42, 63, 95); fill-opacity: 1; white-space: pre; opacity: 1;\" transform=\"translate(361.03,0)\">15</text></g><g class=\"xtick\"><text text-anchor=\"middle\" x=\"0\" y=\"333\" style=\"font-family: 'Open Sans', verdana, arial, sans-serif; font-size: 12px; fill: rgb(42, 63, 95); fill-opacity: 1; white-space: pre; opacity: 1;\" transform=\"translate(471.38,0)\">20</text></g><g class=\"xtick\"><text text-anchor=\"middle\" x=\"0\" y=\"333\" style=\"font-family: 'Open Sans', verdana, arial, sans-serif; font-size: 12px; fill: rgb(42, 63, 95); fill-opacity: 1; white-space: pre; opacity: 1;\" transform=\"translate(581.72,0)\">25</text></g></g><g class=\"yaxislayer-above\"><g class=\"ytick\"><text text-anchor=\"end\" x=\"29\" y=\"4.199999999999999\" transform=\"translate(0,306.3)\" style=\"font-family: 'Open Sans', verdana, arial, sans-serif; font-size: 12px; fill: rgb(42, 63, 95); fill-opacity: 1; white-space: pre; opacity: 1;\">10</text></g><g class=\"ytick\"><text text-anchor=\"end\" x=\"29\" y=\"4.199999999999999\" style=\"font-family: 'Open Sans', verdana, arial, sans-serif; font-size: 12px; fill: rgb(42, 63, 95); fill-opacity: 1; white-space: pre; opacity: 1;\" transform=\"translate(0,243.07)\">20</text></g><g class=\"ytick\"><text text-anchor=\"end\" x=\"29\" y=\"4.199999999999999\" style=\"font-family: 'Open Sans', verdana, arial, sans-serif; font-size: 12px; fill: rgb(42, 63, 95); fill-opacity: 1; white-space: pre; opacity: 1;\" transform=\"translate(0,179.84)\">30</text></g><g class=\"ytick\"><text text-anchor=\"end\" x=\"29\" y=\"4.199999999999999\" style=\"font-family: 'Open Sans', verdana, arial, sans-serif; font-size: 12px; fill: rgb(42, 63, 95); fill-opacity: 1; white-space: pre; opacity: 1;\" transform=\"translate(0,116.61)\">40</text></g><g class=\"ytick\"><text text-anchor=\"end\" x=\"29\" y=\"4.199999999999999\" style=\"font-family: 'Open Sans', verdana, arial, sans-serif; font-size: 12px; fill: rgb(42, 63, 95); fill-opacity: 1; white-space: pre; opacity: 1;\" transform=\"translate(0,53.38)\">50</text></g></g><g class=\"overaxes-above\"/></g></g><g class=\"polarlayer\"/><g class=\"smithlayer\"/><g class=\"ternarylayer\"/><g class=\"geolayer\"/><g class=\"funnelarealayer\"/><g class=\"pielayer\"/><g class=\"iciclelayer\"/><g class=\"treemaplayer\"/><g class=\"sunburstlayer\"/><g class=\"glimages\"/><defs id=\"topdefs-fff2d2\"><g class=\"clips\"/><clipPath id=\"legendfff2d2\"><rect width=\"247\" height=\"29\" x=\"0\" y=\"0\"/></clipPath></defs><g class=\"layer-above\"><g class=\"imagelayer\"/><g class=\"shapelayer\"/></g><g class=\"infolayer\"><g class=\"legend\" pointer-events=\"all\" transform=\"translate(423,11.519999999999996)\"><rect class=\"bg\" shape-rendering=\"crispEdges\" width=\"247\" height=\"29\" x=\"0\" y=\"0\" style=\"stroke: rgb(68, 68, 68); stroke-opacity: 1; fill: rgb(255, 255, 255); fill-opacity: 1; stroke-width: 0px;\"/><g class=\"scrollbox\" transform=\"\" clip-path=\"url(#legendfff2d2)\"><g class=\"groups\"><g class=\"traces\" transform=\"translate(0,14.5)\" style=\"opacity: 1;\"><text class=\"legendtext\" text-anchor=\"start\" x=\"40\" y=\"4.680000000000001\" style=\"font-family: 'Open Sans', verdana, arial, sans-serif; font-size: 12px; fill: rgb(42, 63, 95); fill-opacity: 1; white-space: pre;\">fast_window</text><g class=\"layers\" style=\"opacity: 1;\"><g class=\"legendfill\"/><g class=\"legendlines\"><path class=\"js-line\" d=\"M5,0h30\" style=\"fill: none; stroke: rgb(31, 119, 180); stroke-opacity: 1; stroke-width: 2px;\"/></g><g class=\"legendsymbols\"><g class=\"legendpoints\"/></g></g><rect class=\"legendtoggle\" x=\"0\" y=\"-9.5\" width=\"119.015625\" height=\"19\" style=\"fill: rgb(0, 0, 0); fill-opacity: 0;\"/></g><g class=\"traces\" transform=\"translate(121.515625,14.5)\" style=\"opacity: 1;\"><text class=\"legendtext\" text-anchor=\"start\" x=\"40\" y=\"4.680000000000001\" style=\"font-family: 'Open Sans', verdana, arial, sans-serif; font-size: 12px; fill: rgb(42, 63, 95); fill-opacity: 1; white-space: pre;\">slow_window</text><g class=\"layers\" style=\"opacity: 1;\"><g class=\"legendfill\"/><g class=\"legendlines\"><path class=\"js-line\" d=\"M5,0h30\" style=\"fill: none; stroke: rgb(255, 127, 14); stroke-opacity: 1; stroke-width: 2px;\"/></g><g class=\"legendsymbols\"><g class=\"legendpoints\"/></g></g><rect class=\"legendtoggle\" x=\"0\" y=\"-9.5\" width=\"122.25\" height=\"19\" style=\"fill: rgb(0, 0, 0); fill-opacity: 0;\"/></g></g></g><rect class=\"scrollbar\" rx=\"20\" ry=\"3\" width=\"0\" height=\"0\" x=\"0\" y=\"0\" style=\"fill: rgb(128, 139, 164); fill-opacity: 1;\"/></g><g class=\"g-gtitle\"/><g class=\"g-xtitle\"/><g class=\"g-ytitle\"/></g></svg>"
     },
     "metadata": {},
     "output_type": "display_data"
    }
   ],
   "source": [
    "pd.DataFrame(in_best_window_pairs, columns=['fast_window', 'slow_window']).vbt.plot().show_svg()\n"
   ]
  },
  {
   "cell_type": "code",
   "execution_count": 56,
   "metadata": {},
   "outputs": [
    {
     "name": "stdout",
     "output_type": "stream",
     "text": [
      "split_idx\n",
      "0     0.186010\n",
      "1     0.934193\n",
      "2     2.146763\n",
      "3     3.557348\n",
      "4     1.814284\n",
      "5     1.925233\n",
      "6     2.414473\n",
      "7     1.079427\n",
      "8     0.216364\n",
      "9    -0.461019\n",
      "10    0.248038\n",
      "11    0.245964\n",
      "12    1.971905\n",
      "13    2.599415\n",
      "14    3.426194\n",
      "15    2.864984\n",
      "16    1.425409\n",
      "17    1.255722\n",
      "18   -0.115401\n",
      "19   -0.148160\n",
      "20    1.690709\n",
      "21    1.767119\n",
      "22    1.036640\n",
      "23    1.121516\n",
      "24    2.768556\n",
      "25    1.723006\n",
      "26    1.383086\n",
      "27    0.846405\n",
      "28   -1.034118\n",
      "29   -1.665737\n",
      "Name: sharpe_ratio, dtype: float64\n"
     ]
    }
   ],
   "source": [
    "out_hold_sharpe = simulate_holding(out_price, **pf_kwargs)\n",
    "\n",
    "print(out_hold_sharpe)"
   ]
  },
  {
   "cell_type": "code",
   "execution_count": 58,
   "metadata": {},
   "outputs": [
    {
     "name": "stdout",
     "output_type": "stream",
     "text": [
      "fast_window  slow_window  split_idx\n",
      "10           11           0            2.001048\n",
      "                          1            2.279468\n",
      "                          2            0.134959\n",
      "                          3           -1.437504\n",
      "                          4           -1.585578\n",
      "                                         ...   \n",
      "48           49           25          -0.491739\n",
      "                          26          -1.771791\n",
      "                          27           0.384436\n",
      "                          28           1.420510\n",
      "                          29          -0.015956\n",
      "Name: sharpe_ratio, Length: 23400, dtype: float64\n"
     ]
    }
   ],
   "source": [
    "# Simulate all params for out-sample ranges\n",
    "out_sharpe = simulate_all_params(out_price, windows, **pf_kwargs)\n",
    "\n",
    "print(out_sharpe)"
   ]
  },
  {
   "cell_type": "code",
   "execution_count": 60,
   "metadata": {},
   "outputs": [],
   "source": [
    "def simulate_best_params(price, best_fast_windows, best_slow_windows, **kwargs):\n",
    "    fast_ma = vbt.MA.run(price, window=best_fast_windows, per_column=True)\n",
    "    slow_ma = vbt.MA.run(price, window=best_slow_windows, per_column=True)\n",
    "    entries = fast_ma.ma_crossed_above(slow_ma)\n",
    "    exits = fast_ma.ma_crossed_below(slow_ma)\n",
    "    pf = vbt.Portfolio.from_signals(price, entries, exits, **kwargs)\n",
    "    return pf.sharpe_ratio()"
   ]
  },
  {
   "cell_type": "code",
   "execution_count": 62,
   "metadata": {},
   "outputs": [
    {
     "name": "stdout",
     "output_type": "stream",
     "text": [
      "ma_window  ma_window  split_idx\n",
      "44         49         0            0.304397\n",
      "15         21         1            0.681639\n",
      "                      2           -1.352656\n",
      "                      3            0.243181\n",
      "28         45         4           -0.595302\n",
      "21         32         5            1.883719\n",
      "20         39         6           -1.247564\n",
      "                      7           -2.044494\n",
      "23         24         8            0.327308\n",
      "                      9            0.358296\n",
      "22         24         10           1.613390\n",
      "19         28         11          -2.287407\n",
      "                      12          -0.299869\n",
      "           21         13           2.598852\n",
      "39         45         14           0.367387\n",
      "40         44         15           2.730662\n",
      "           45         16           1.747306\n",
      "39         47         17           1.704856\n",
      "41         42         18           0.379090\n",
      "33         47         19           0.780620\n",
      "                      20          -2.394943\n",
      "32         45         21           1.803453\n",
      "34         40         22           0.819262\n",
      "33         47         23           1.856730\n",
      "16         34         24           0.363128\n",
      "11         14         25           0.555648\n",
      "                      26           1.388033\n",
      "10         16         27           0.988675\n",
      "12         19         28           0.612381\n",
      "11         14         29           0.046239\n",
      "Name: sharpe_ratio, dtype: float64\n"
     ]
    }
   ],
   "source": [
    "# Use best params from in-sample ranges and simulate them for out-sample ranges\n",
    "out_test_sharpe = simulate_best_params(out_price, in_best_fast_windows, in_best_slow_windows, **pf_kwargs)\n",
    "\n",
    "print(out_test_sharpe)"
   ]
  },
  {
   "cell_type": "code",
   "execution_count": 64,
   "metadata": {},
   "outputs": [],
   "source": [
    "cv_results_df = pd.DataFrame({\n",
    "    'in_sample_hold': in_hold_sharpe.values,\n",
    "    'in_sample_median': in_sharpe.groupby('split_idx').median().values,\n",
    "    'in_sample_best': in_sharpe[in_best_index].values,\n",
    "    'out_sample_hold': out_hold_sharpe.values,\n",
    "    'out_sample_median': out_sharpe.groupby('split_idx').median().values,\n",
    "    'out_sample_test': out_test_sharpe.values\n",
    "})"
   ]
  },
  {
   "cell_type": "code",
   "execution_count": 66,
   "metadata": {},
   "outputs": [
    {
     "data": {
      "image/svg+xml": "<svg class=\"main-svg\" xmlns=\"http://www.w3.org/2000/svg\" xmlns:xlink=\"http://www.w3.org/1999/xlink\" width=\"700\" height=\"350\" style=\"\" viewBox=\"0 0 700 350\"><rect x=\"0\" y=\"0\" width=\"700\" height=\"350\" style=\"fill: rgb(255, 255, 255); fill-opacity: 1;\"/><defs id=\"defs-95eb3d\"><g class=\"clips\"><clipPath id=\"clip95eb3dxyplot\" class=\"plotclip\"><rect width=\"640\" height=\"255\"/></clipPath><clipPath class=\"axesclip\" id=\"clip95eb3dx\"><rect x=\"30\" y=\"0\" width=\"640\" height=\"350\"/></clipPath><clipPath class=\"axesclip\" id=\"clip95eb3dy\"><rect x=\"0\" y=\"65\" width=\"700\" height=\"255\"/></clipPath><clipPath class=\"axesclip\" id=\"clip95eb3dxy\"><rect x=\"30\" y=\"65\" width=\"640\" height=\"255\"/></clipPath></g><g class=\"gradients\"/><g class=\"patterns\"/></defs><g class=\"bglayer\"><rect class=\"bg\" x=\"30\" y=\"65\" width=\"640\" height=\"255\" style=\"fill: rgb(229, 236, 246); fill-opacity: 1; stroke-width: 0;\"/></g><g class=\"layer-below\"><g class=\"imagelayer\"/><g class=\"shapelayer\"/></g><g class=\"cartesianlayer\"><g class=\"subplot xy\"><g class=\"layer-subplot\"><g class=\"shapelayer\"/><g class=\"imagelayer\"/></g><g class=\"gridlayer\"><g class=\"x\"><path class=\"xgrid crisp\" transform=\"translate(140.34,0)\" d=\"M0,65v255\" style=\"stroke: rgb(255, 255, 255); stroke-opacity: 1; stroke-width: 1px;\"/><path class=\"xgrid crisp\" transform=\"translate(250.69,0)\" d=\"M0,65v255\" style=\"stroke: rgb(255, 255, 255); stroke-opacity: 1; stroke-width: 1px;\"/><path class=\"xgrid crisp\" transform=\"translate(361.03,0)\" d=\"M0,65v255\" style=\"stroke: rgb(255, 255, 255); stroke-opacity: 1; stroke-width: 1px;\"/><path class=\"xgrid crisp\" transform=\"translate(471.38,0)\" d=\"M0,65v255\" style=\"stroke: rgb(255, 255, 255); stroke-opacity: 1; stroke-width: 1px;\"/><path class=\"xgrid crisp\" transform=\"translate(581.72,0)\" d=\"M0,65v255\" style=\"stroke: rgb(255, 255, 255); stroke-opacity: 1; stroke-width: 1px;\"/></g><g class=\"y\"><path class=\"ygrid crisp\" transform=\"translate(0,292.02)\" d=\"M30,0h640\" style=\"stroke: rgb(255, 255, 255); stroke-opacity: 1; stroke-width: 1px;\"/><path class=\"ygrid crisp\" transform=\"translate(0,253.47)\" d=\"M30,0h640\" style=\"stroke: rgb(255, 255, 255); stroke-opacity: 1; stroke-width: 1px;\"/><path class=\"ygrid crisp\" transform=\"translate(0,176.35)\" d=\"M30,0h640\" style=\"stroke: rgb(255, 255, 255); stroke-opacity: 1; stroke-width: 1px;\"/><path class=\"ygrid crisp\" transform=\"translate(0,137.8)\" d=\"M30,0h640\" style=\"stroke: rgb(255, 255, 255); stroke-opacity: 1; stroke-width: 1px;\"/><path class=\"ygrid crisp\" transform=\"translate(0,99.24000000000001)\" d=\"M30,0h640\" style=\"stroke: rgb(255, 255, 255); stroke-opacity: 1; stroke-width: 1px;\"/></g></g><g class=\"zerolinelayer\"><path class=\"xzl zl crisp\" transform=\"translate(30,0)\" d=\"M0,65v255\" style=\"stroke: rgb(255, 255, 255); stroke-opacity: 1; stroke-width: 2px;\"/><path class=\"yzl zl crisp\" transform=\"translate(0,214.91)\" d=\"M30,0h640\" style=\"stroke: rgb(255, 255, 255); stroke-opacity: 1; stroke-width: 2px;\"/></g><path class=\"xlines-below\"/><path class=\"ylines-below\"/><g class=\"overlines-below\"/><g class=\"xaxislayer-below\"/><g class=\"yaxislayer-below\"/><g class=\"overaxes-below\"/><g class=\"plot\" transform=\"translate(30,65)\" clip-path=\"url(#clip95eb3dxyplot)\"><g class=\"scatterlayer mlayer\"><g class=\"trace scatter traced35a6669-9baf-4491-9853-bb641f741fc6\" style=\"stroke-miterlimit: 2; opacity: 1;\"><g class=\"fills\"/><g class=\"errorbars\"/><g class=\"lines\"><path class=\"js-line\" d=\"M0,100.06L22.07,103.69L44.14,114.14L66.21,125.2L88.28,106.88L110.34,88.68L132.41,93.85L154.48,72.75L176.55,75.53L198.62,62.41L220.69,82.67L242.76,101.01L264.83,124.04L286.9,116.26L308.97,119.72L331.03,113.95L353.1,103.54L375.17,93.92L397.24,79.3L419.31,60.22L441.38,111.14L463.45,106.96L485.52,110.18L507.59,107.33L529.66,122.76L551.72,111.77L573.79,97.84L595.86,97.91L617.93,91.89L640,92.66\" style=\"vector-effect: non-scaling-stroke; fill: none; stroke: rgb(31, 119, 180); stroke-opacity: 1; stroke-width: 2px; opacity: 1;\"/></g><g class=\"points\"/><g class=\"text\"/></g><g class=\"trace scatter traceff034b6f-23e4-4513-ab24-b45c46b8ddba\" style=\"stroke-miterlimit: 2; opacity: 1;\"><g class=\"fills\"/><g class=\"errorbars\"/><g class=\"lines\"><path class=\"js-line\" d=\"M0,161.38L22.07,150.35L44.14,154.54L66.21,148.2L88.28,130.41L110.34,88.38L132.41,119.32L154.48,113.21L176.55,137.5L198.62,156.1L220.69,190.5L242.76,186.98L264.83,168.43L286.9,185.11L308.97,180.32L331.03,152.56L353.1,133.01L375.17,131.75L397.24,151.92L419.31,127.78L441.38,138.87L463.45,129.46L485.52,138.97L507.59,140.82L529.66,128.93L551.72,115.04L573.79,120.06L595.86,138.99L617.93,124.46L640,136.54\" style=\"vector-effect: non-scaling-stroke; fill: none; stroke: rgb(31, 119, 180); stroke-opacity: 1; stroke-width: 2px; opacity: 1; stroke-dasharray: 9px, 9px;\"/></g><g class=\"points\"/><g class=\"text\"/></g><g class=\"trace scatter trace93ab1e82-d190-42f4-95d9-b931e0d02351\" style=\"stroke-miterlimit: 2; opacity: 1;\"><g class=\"fills\"/><g class=\"errorbars\"/><g class=\"lines\"><path class=\"js-line\" d=\"M0,110.85L22.07,97.96L44.14,93.26L66.21,104.48L88.28,94.18L110.34,44.16L132.41,90.61L154.48,80.95L176.55,99.08L198.62,97.14L220.69,88.46L242.76,98.73L264.83,74.75L286.9,116.31L308.97,93.31L331.03,59.46L353.1,73.4L375.17,58.24L397.24,35.77L419.31,48.42L441.38,70.58L463.45,68.26L485.52,109.03L507.59,106.54L529.66,89.32L551.72,63.83L573.79,68.91L595.86,71.77L617.93,70.12L640,77.04\" style=\"vector-effect: non-scaling-stroke; fill: none; stroke: rgb(31, 119, 180); stroke-opacity: 1; stroke-width: 2px; opacity: 1; stroke-dasharray: 3px, 3px;\"/></g><g class=\"points\"/><g class=\"text\"/></g><g class=\"trace scatter trace4e7da9f3-56ad-41ea-b3ce-f0abb47c3d1f\" style=\"stroke-miterlimit: 2; opacity: 1;\"><g class=\"fills\"/><g class=\"errorbars\"/><g class=\"lines\"><path class=\"js-line\" d=\"M0,142.74L22.07,113.89L44.14,67.14L66.21,12.75L88.28,79.96L110.34,75.68L132.41,56.82L154.48,108.29L176.55,141.57L198.62,167.68L220.69,140.35L242.76,140.43L264.83,73.88L286.9,49.68L308.97,17.81L331.03,39.45L353.1,94.95L375.17,101.49L397.24,154.36L419.31,155.62L441.38,84.72L463.45,81.78L485.52,109.94L507.59,106.67L529.66,43.16L551.72,83.48L573.79,96.58L595.86,117.27L617.93,189.78L640,214.13\" style=\"vector-effect: non-scaling-stroke; fill: none; stroke: rgb(255, 127, 14); stroke-opacity: 1; stroke-width: 2px; opacity: 1;\"/></g><g class=\"points\"/><g class=\"text\"/></g><g class=\"trace scatter trace5b971521-437d-4af3-9f6a-46d6ac289b18\" style=\"stroke-miterlimit: 2; opacity: 1;\"><g class=\"fills\"/><g class=\"errorbars\"/><g class=\"lines\"><path class=\"js-line\" d=\"M0,110.02L22.07,85.11L44.14,179.44L66.21,87.32L88.28,182.5L110.34,100.51L132.41,194.82L154.48,182.23L176.55,214.7L198.62,165.04L220.69,117.39L242.76,170.16L264.83,162.26L286.9,64.78L308.97,186.95L331.03,85.26L353.1,195.03L375.17,157.85L397.24,113.61L419.31,107.26L441.38,203L463.45,122.86L485.52,102.4L507.59,70.88L529.66,132.98L551.72,193.71L573.79,183.51L595.86,155.35L617.93,135.98L640,144.37\" style=\"vector-effect: non-scaling-stroke; fill: none; stroke: rgb(255, 127, 14); stroke-opacity: 1; stroke-width: 2px; opacity: 1; stroke-dasharray: 9px, 9px;\"/></g><g class=\"points\"/><g class=\"text\"/></g><g class=\"trace scatter tracece822c95-aad3-4f6f-ab0e-daabc7287569\" style=\"stroke-miterlimit: 2; opacity: 1;\"><g class=\"fills\"/><g class=\"errorbars\"/><g class=\"lines\"><path class=\"js-line\" d=\"M0,138.17L22.07,123.63L44.14,202.06L66.21,140.53L88.28,172.86L110.34,77.28L132.41,198.01L154.48,228.74L176.55,137.29L198.62,136.09L220.69,87.7L242.76,238.1L264.83,161.47L286.9,49.71L308.97,135.74L331.03,44.62L353.1,82.54L375.17,84.18L397.24,135.29L419.31,119.81L441.38,242.25L463.45,80.37L485.52,118.32L507.59,78.32L529.66,135.91L551.72,128.49L573.79,96.39L617.93,126.3L640,148.13\" style=\"vector-effect: non-scaling-stroke; fill: none; stroke: rgb(255, 127, 14); stroke-opacity: 1; stroke-width: 2px; opacity: 1; stroke-dasharray: 3px, 3px;\"/></g><g class=\"points\"/><g class=\"text\"/></g></g></g><g class=\"overplot\"/><path class=\"xlines-above crisp\" d=\"M0,0\" style=\"fill: none;\"/><path class=\"ylines-above crisp\" d=\"M0,0\" style=\"fill: none;\"/><g class=\"overlines-above\"/><g class=\"xaxislayer-above\"><g class=\"xtick\"><text text-anchor=\"middle\" x=\"0\" y=\"333\" transform=\"translate(30,0)\" style=\"font-family: 'Open Sans', verdana, arial, sans-serif; font-size: 12px; fill: rgb(42, 63, 95); fill-opacity: 1; white-space: pre; opacity: 1;\">0</text></g><g class=\"xtick\"><text text-anchor=\"middle\" x=\"0\" y=\"333\" style=\"font-family: 'Open Sans', verdana, arial, sans-serif; font-size: 12px; fill: rgb(42, 63, 95); fill-opacity: 1; white-space: pre; opacity: 1;\" transform=\"translate(140.34,0)\">5</text></g><g class=\"xtick\"><text text-anchor=\"middle\" x=\"0\" y=\"333\" style=\"font-family: 'Open Sans', verdana, arial, sans-serif; font-size: 12px; fill: rgb(42, 63, 95); fill-opacity: 1; white-space: pre; opacity: 1;\" transform=\"translate(250.69,0)\">10</text></g><g class=\"xtick\"><text text-anchor=\"middle\" x=\"0\" y=\"333\" style=\"font-family: 'Open Sans', verdana, arial, sans-serif; font-size: 12px; fill: rgb(42, 63, 95); fill-opacity: 1; white-space: pre; opacity: 1;\" transform=\"translate(361.03,0)\">15</text></g><g class=\"xtick\"><text text-anchor=\"middle\" x=\"0\" y=\"333\" style=\"font-family: 'Open Sans', verdana, arial, sans-serif; font-size: 12px; fill: rgb(42, 63, 95); fill-opacity: 1; white-space: pre; opacity: 1;\" transform=\"translate(471.38,0)\">20</text></g><g class=\"xtick\"><text text-anchor=\"middle\" x=\"0\" y=\"333\" style=\"font-family: 'Open Sans', verdana, arial, sans-serif; font-size: 12px; fill: rgb(42, 63, 95); fill-opacity: 1; white-space: pre; opacity: 1;\" transform=\"translate(581.72,0)\">25</text></g></g><g class=\"yaxislayer-above\"><g class=\"ytick\"><text text-anchor=\"end\" x=\"29\" y=\"4.199999999999999\" transform=\"translate(0,292.02)\" style=\"font-family: 'Open Sans', verdana, arial, sans-serif; font-size: 12px; fill: rgb(42, 63, 95); fill-opacity: 1; white-space: pre; opacity: 1;\">−2</text></g><g class=\"ytick\"><text text-anchor=\"end\" x=\"29\" y=\"4.199999999999999\" style=\"font-family: 'Open Sans', verdana, arial, sans-serif; font-size: 12px; fill: rgb(42, 63, 95); fill-opacity: 1; white-space: pre; opacity: 1;\" transform=\"translate(0,253.47)\">−1</text></g><g class=\"ytick\"><text text-anchor=\"end\" x=\"29\" y=\"4.199999999999999\" style=\"font-family: 'Open Sans', verdana, arial, sans-serif; font-size: 12px; fill: rgb(42, 63, 95); fill-opacity: 1; white-space: pre; opacity: 1;\" transform=\"translate(0,214.91)\">0</text></g><g class=\"ytick\"><text text-anchor=\"end\" x=\"29\" y=\"4.199999999999999\" style=\"font-family: 'Open Sans', verdana, arial, sans-serif; font-size: 12px; fill: rgb(42, 63, 95); fill-opacity: 1; white-space: pre; opacity: 1;\" transform=\"translate(0,176.35)\">1</text></g><g class=\"ytick\"><text text-anchor=\"end\" x=\"29\" y=\"4.199999999999999\" style=\"font-family: 'Open Sans', verdana, arial, sans-serif; font-size: 12px; fill: rgb(42, 63, 95); fill-opacity: 1; white-space: pre; opacity: 1;\" transform=\"translate(0,137.8)\">2</text></g><g class=\"ytick\"><text text-anchor=\"end\" x=\"29\" y=\"4.199999999999999\" style=\"font-family: 'Open Sans', verdana, arial, sans-serif; font-size: 12px; fill: rgb(42, 63, 95); fill-opacity: 1; white-space: pre; opacity: 1;\" transform=\"translate(0,99.24000000000001)\">3</text></g></g><g class=\"overaxes-above\"/></g></g><g class=\"polarlayer\"/><g class=\"smithlayer\"/><g class=\"ternarylayer\"/><g class=\"geolayer\"/><g class=\"funnelarealayer\"/><g class=\"pielayer\"/><g class=\"iciclelayer\"/><g class=\"treemaplayer\"/><g class=\"sunburstlayer\"/><g class=\"glimages\"/><defs id=\"topdefs-95eb3d\"><g class=\"clips\"/><clipPath id=\"legend95eb3d\"><rect width=\"481\" height=\"48\" x=\"0\" y=\"0\"/></clipPath></defs><g class=\"layer-above\"><g class=\"imagelayer\"/><g class=\"shapelayer\"/></g><g class=\"infolayer\"><g class=\"legend\" pointer-events=\"all\" transform=\"translate(189,11.899999999999991)\"><rect class=\"bg\" shape-rendering=\"crispEdges\" width=\"481\" height=\"48\" x=\"0\" y=\"0\" style=\"stroke: rgb(68, 68, 68); stroke-opacity: 1; fill: rgb(255, 255, 255); fill-opacity: 1; stroke-width: 0px;\"/><g class=\"scrollbox\" transform=\"\" clip-path=\"url(#legend95eb3d)\"><g class=\"groups\"><g class=\"traces\" transform=\"translate(0,14.5)\" style=\"opacity: 1;\"><text class=\"legendtext\" text-anchor=\"start\" x=\"40\" y=\"4.680000000000001\" style=\"font-family: 'Open Sans', verdana, arial, sans-serif; font-size: 12px; fill: rgb(42, 63, 95); fill-opacity: 1; white-space: pre;\">in_sample_hold</text><g class=\"layers\" style=\"opacity: 1;\"><g class=\"legendfill\"/><g class=\"legendlines\"><path class=\"js-line\" d=\"M5,0h30\" style=\"fill: none; stroke: rgb(31, 119, 180); stroke-opacity: 1; stroke-width: 2px;\"/></g><g class=\"legendsymbols\"><g class=\"legendpoints\"/></g></g><rect class=\"legendtoggle\" x=\"0\" y=\"-9.5\" width=\"137.34375\" height=\"19\" style=\"fill: rgb(0, 0, 0); fill-opacity: 0;\"/></g><g class=\"traces\" transform=\"translate(167.3125,14.5)\" style=\"opacity: 1;\"><text class=\"legendtext\" text-anchor=\"start\" x=\"40\" y=\"4.680000000000001\" style=\"font-family: 'Open Sans', verdana, arial, sans-serif; font-size: 12px; fill: rgb(42, 63, 95); fill-opacity: 1; white-space: pre;\">in_sample_median</text><g class=\"layers\" style=\"opacity: 1;\"><g class=\"legendfill\"/><g class=\"legendlines\"><path class=\"js-line\" d=\"M5,0h30\" style=\"fill: none; stroke: rgb(31, 119, 180); stroke-opacity: 1; stroke-dasharray: 9px, 9px; stroke-width: 2px;\"/></g><g class=\"legendsymbols\"><g class=\"legendpoints\"/></g></g><rect class=\"legendtoggle\" x=\"0\" y=\"-9.5\" width=\"156.09375\" height=\"19\" style=\"fill: rgb(0, 0, 0); fill-opacity: 0;\"/></g><g class=\"traces\" transform=\"translate(334.625,14.5)\" style=\"opacity: 1;\"><text class=\"legendtext\" text-anchor=\"start\" x=\"40\" y=\"4.680000000000001\" style=\"font-family: 'Open Sans', verdana, arial, sans-serif; font-size: 12px; fill: rgb(42, 63, 95); fill-opacity: 1; white-space: pre;\">in_sample_best</text><g class=\"layers\" style=\"opacity: 1;\"><g class=\"legendfill\"/><g class=\"legendlines\"><path class=\"js-line\" d=\"M5,0h30\" style=\"fill: none; stroke: rgb(31, 119, 180); stroke-opacity: 1; stroke-dasharray: 3px, 3px; stroke-width: 2px;\"/></g><g class=\"legendsymbols\"><g class=\"legendpoints\"/></g></g><rect class=\"legendtoggle\" x=\"0\" y=\"-9.5\" width=\"137.578125\" height=\"19\" style=\"fill: rgb(0, 0, 0); fill-opacity: 0;\"/></g><g class=\"traces\" transform=\"translate(0,33.5)\" style=\"opacity: 1;\"><text class=\"legendtext\" text-anchor=\"start\" x=\"40\" y=\"4.680000000000001\" style=\"font-family: 'Open Sans', verdana, arial, sans-serif; font-size: 12px; fill: rgb(42, 63, 95); fill-opacity: 1; white-space: pre;\">out_sample_hold</text><g class=\"layers\" style=\"opacity: 1;\"><g class=\"legendfill\"/><g class=\"legendlines\"><path class=\"js-line\" d=\"M5,0h30\" style=\"fill: none; stroke: rgb(255, 127, 14); stroke-opacity: 1; stroke-width: 2px;\"/></g><g class=\"legendsymbols\"><g class=\"legendpoints\"/></g></g><rect class=\"legendtoggle\" x=\"0\" y=\"-9.5\" width=\"146.0625\" height=\"19\" style=\"fill: rgb(0, 0, 0); fill-opacity: 0;\"/></g><g class=\"traces\" transform=\"translate(167.3125,33.5)\" style=\"opacity: 1;\"><text class=\"legendtext\" text-anchor=\"start\" x=\"40\" y=\"4.680000000000001\" style=\"font-family: 'Open Sans', verdana, arial, sans-serif; font-size: 12px; fill: rgb(42, 63, 95); fill-opacity: 1; white-space: pre;\">out_sample_median</text><g class=\"layers\" style=\"opacity: 1;\"><g class=\"legendfill\"/><g class=\"legendlines\"><path class=\"js-line\" d=\"M5,0h30\" style=\"fill: none; stroke: rgb(255, 127, 14); stroke-opacity: 1; stroke-dasharray: 9px, 9px; stroke-width: 2px;\"/></g><g class=\"legendsymbols\"><g class=\"legendpoints\"/></g></g><rect class=\"legendtoggle\" x=\"0\" y=\"-9.5\" width=\"164.8125\" height=\"19\" style=\"fill: rgb(0, 0, 0); fill-opacity: 0;\"/></g><g class=\"traces\" transform=\"translate(334.625,33.5)\" style=\"opacity: 1;\"><text class=\"legendtext\" text-anchor=\"start\" x=\"40\" y=\"4.680000000000001\" style=\"font-family: 'Open Sans', verdana, arial, sans-serif; font-size: 12px; fill: rgb(42, 63, 95); fill-opacity: 1; white-space: pre;\">out_sample_test</text><g class=\"layers\" style=\"opacity: 1;\"><g class=\"legendfill\"/><g class=\"legendlines\"><path class=\"js-line\" d=\"M5,0h30\" style=\"fill: none; stroke: rgb(255, 127, 14); stroke-opacity: 1; stroke-dasharray: 3px, 3px; stroke-width: 2px;\"/></g><g class=\"legendsymbols\"><g class=\"legendpoints\"/></g></g><rect class=\"legendtoggle\" x=\"0\" y=\"-9.5\" width=\"143.546875\" height=\"19\" style=\"fill: rgb(0, 0, 0); fill-opacity: 0;\"/></g></g></g><rect class=\"scrollbar\" rx=\"20\" ry=\"3\" width=\"0\" height=\"0\" x=\"0\" y=\"0\" style=\"fill: rgb(128, 139, 164); fill-opacity: 1;\"/></g><g class=\"g-gtitle\"/><g class=\"g-xtitle\"/><g class=\"g-ytitle\"/></g></svg>"
     },
     "metadata": {},
     "output_type": "display_data"
    }
   ],
   "source": [
    "color_schema = vbt.settings['plotting']['color_schema']\n",
    "\n",
    "cv_results_df.vbt.plot(\n",
    "    trace_kwargs=[\n",
    "        dict(line_color=color_schema['blue']),\n",
    "        dict(line_color=color_schema['blue'], line_dash='dash'),\n",
    "        dict(line_color=color_schema['blue'], line_dash='dot'),\n",
    "        dict(line_color=color_schema['orange']),\n",
    "        dict(line_color=color_schema['orange'], line_dash='dash'),\n",
    "        dict(line_color=color_schema['orange'], line_dash='dot')\n",
    "    ]\n",
    ").show_svg()"
   ]
  },
  {
   "cell_type": "code",
   "execution_count": null,
   "metadata": {},
   "outputs": [],
   "source": []
  }
 ],
 "metadata": {
  "kernelspec": {
   "display_name": "Python 3.7.13 ('dev')",
   "language": "python",
   "name": "python3"
  },
  "language_info": {
   "codemirror_mode": {
    "name": "ipython",
    "version": 3
   },
   "file_extension": ".py",
   "mimetype": "text/x-python",
   "name": "python",
   "nbconvert_exporter": "python",
   "pygments_lexer": "ipython3",
   "version": "3.7.13"
  },
  "orig_nbformat": 4,
  "vscode": {
   "interpreter": {
    "hash": "bb4896eba2e43e817e326f95005b77416bfc5ca3345d6b1e7240300d542134ef"
   }
  }
 },
 "nbformat": 4,
 "nbformat_minor": 2
}
