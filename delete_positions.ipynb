{
 "cells": [
  {
   "cell_type": "code",
   "execution_count": 13,
   "metadata": {},
   "outputs": [
    {
     "data": {
      "text/plain": [
       "[{'symbol': 'SQQQ',\n",
       "  'status': 200,\n",
       "  'body': {'id': '4c390a9d-bd35-4cad-b019-e6d06646935e',\n",
       "   'client_order_id': '84a7362c-8440-49d1-b935-cd22678466c1',\n",
       "   'created_at': '2022-10-04T15:31:21.606918306Z',\n",
       "   'updated_at': '2022-10-04T15:31:21.606964726Z',\n",
       "   'submitted_at': '2022-10-04T15:31:21.606486616Z',\n",
       "   'filled_at': None,\n",
       "   'expired_at': None,\n",
       "   'canceled_at': None,\n",
       "   'failed_at': None,\n",
       "   'replaced_at': None,\n",
       "   'replaced_by': None,\n",
       "   'replaces': None,\n",
       "   'asset_id': 'eb8bb6f9-b4f1-4b57-8f7a-e577fcf07d4a',\n",
       "   'symbol': 'SQQQ',\n",
       "   'asset_class': 'us_equity',\n",
       "   'notional': None,\n",
       "   'qty': '145',\n",
       "   'filled_qty': '0',\n",
       "   'filled_avg_price': None,\n",
       "   'order_class': '',\n",
       "   'order_type': 'market',\n",
       "   'type': 'market',\n",
       "   'side': 'buy',\n",
       "   'time_in_force': 'day',\n",
       "   'limit_price': None,\n",
       "   'stop_price': None,\n",
       "   'status': 'pending_new',\n",
       "   'extended_hours': False,\n",
       "   'legs': None,\n",
       "   'trail_percent': None,\n",
       "   'trail_price': None,\n",
       "   'hwm': None,\n",
       "   'subtag': None,\n",
       "   'source': None}}]"
      ]
     },
     "execution_count": 13,
     "metadata": {},
     "output_type": "execute_result"
    }
   ],
   "source": [
    "\"\"\"\n",
    "Alpaca API - Liquidating positions\n",
    "\n",
    "\"\"\"\n",
    "\n",
    "import requests\n",
    "import os\n",
    "import json\n",
    "\n",
    "\n",
    "API_KEY = os.getenv(\"ALPACA_API_KEY\")\n",
    "API_SECRET = os.getenv(\"ALPACA_SECRET_KEY\")\n",
    "\n",
    "endpoint = \"https://paper-api.alpaca.markets\"\n",
    "\n",
    "headers = {'APCA-API-KEY-ID': API_KEY,\n",
    "           'APCA-API-SECRET-KEY': API_SECRET}\n",
    "'''\n",
    "def market_order(symbol, quantity, side=\"buy\", tif=\"day\"):\n",
    "    ord_url = endpoint + \"/v2/orders\"\n",
    "    params = {\"symbol\": symbol,\n",
    "              \"qty\": quantity,\n",
    "              \"side\" : side,\n",
    "              \"type\": \"market\",\n",
    "              \"time_in_force\": tif}\n",
    "    r = requests.post(ord_url, headers=headers, json=params)\n",
    "    return r.json()\n",
    "'''\n",
    "\n",
    "def del_positions(symbol=\"\", qty=0):\n",
    "    if len(symbol)>1:\n",
    "        pos_url = endpoint + \"/v2/positions/{}\".format(symbol)\n",
    "        params = {\"qty\" : qty}\n",
    "    else:\n",
    "        pos_url = endpoint + \"/v2/positions\"\n",
    "        params = {}\n",
    "    r = requests.delete(pos_url, headers=headers, json=params)\n",
    "    return r.json()\n",
    "\n",
    "#market_order(\"CSCO\", 10, \"sell\") #initiate a short position in CSCO\n",
    "#market_order(\"GOOG\", 2, \"buy\") #initiate a long position in GOOG\n",
    "#market_order(\"INTC\", 5, \"buy\") ##initiate a long position in INTC\n",
    "#del_positions(\"CSCO\") #delete CSCO position\n",
    "del_positions() #delete all positions"
   ]
  }
 ],
 "metadata": {
  "kernelspec": {
   "display_name": "Python 3.7.13 ('dev')",
   "language": "python",
   "name": "python3"
  },
  "language_info": {
   "codemirror_mode": {
    "name": "ipython",
    "version": 3
   },
   "file_extension": ".py",
   "mimetype": "text/x-python",
   "name": "python",
   "nbconvert_exporter": "python",
   "pygments_lexer": "ipython3",
   "version": "3.7.13"
  },
  "orig_nbformat": 4,
  "vscode": {
   "interpreter": {
    "hash": "bb4896eba2e43e817e326f95005b77416bfc5ca3345d6b1e7240300d542134ef"
   }
  }
 },
 "nbformat": 4,
 "nbformat_minor": 2
}
