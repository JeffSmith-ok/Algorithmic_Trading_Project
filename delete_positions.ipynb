{
 "cells": [
  {
   "cell_type": "code",
   "execution_count": 2,
   "metadata": {},
   "outputs": [
    {
     "data": {
      "text/plain": [
       "[{'symbol': 'TQQQ',\n",
       "  'status': 403,\n",
       "  'body': {'code': 40310100,\n",
       "   'message': 'trade denied due to pattern day trading protection'}}]"
      ]
     },
     "execution_count": 2,
     "metadata": {},
     "output_type": "execute_result"
    }
   ],
   "source": [
    "\"\"\"\n",
    "Alpaca API - Liquidating positions\n",
    "\n",
    "\"\"\"\n",
    "\n",
    "import requests\n",
    "import os\n",
    "import json\n",
    "\n",
    "\n",
    "API_KEY = os.getenv(\"ALPACA_API_KEY\")\n",
    "API_SECRET = os.getenv(\"ALPACA_SECRET_KEY\")\n",
    "\n",
    "endpoint = \"https://paper-api.alpaca.markets\"\n",
    "\n",
    "headers = {'APCA-API-KEY-ID': API_KEY,\n",
    "           'APCA-API-SECRET-KEY': API_SECRET}\n",
    "'''\n",
    "def market_order(symbol, quantity, side=\"buy\", tif=\"day\"):\n",
    "    ord_url = endpoint + \"/v2/orders\"\n",
    "    params = {\"symbol\": symbol,\n",
    "              \"qty\": quantity,\n",
    "              \"side\" : side,\n",
    "              \"type\": \"market\",\n",
    "              \"time_in_force\": tif}\n",
    "    r = requests.post(ord_url, headers=headers, json=params)\n",
    "    return r.json()\n",
    "'''\n",
    "\n",
    "def del_positions(symbol=\"\", qty=0):\n",
    "    if len(symbol)>1:\n",
    "        pos_url = endpoint + \"/v2/positions/{}\".format(symbol)\n",
    "        params = {\"qty\" : qty}\n",
    "    else:\n",
    "        pos_url = endpoint + \"/v2/positions\"\n",
    "        params = {}\n",
    "    r = requests.delete(pos_url, headers=headers, json=params)\n",
    "    return r.json()\n",
    "\n",
    "#market_order(\"CSCO\", 10, \"sell\") #initiate a short position in CSCO\n",
    "#market_order(\"GOOG\", 2, \"buy\") #initiate a long position in GOOG\n",
    "#market_order(\"INTC\", 5, \"buy\") ##initiate a long position in INTC\n",
    "#del_positions(\"CSCO\") #delete CSCO position\n",
    "del_positions() #delete all positions"
   ]
  }
 ],
 "metadata": {
  "kernelspec": {
   "display_name": "Python 3.7.13 ('dev')",
   "language": "python",
   "name": "python3"
  },
  "language_info": {
   "codemirror_mode": {
    "name": "ipython",
    "version": 3
   },
   "file_extension": ".py",
   "mimetype": "text/x-python",
   "name": "python",
   "nbconvert_exporter": "python",
   "pygments_lexer": "ipython3",
   "version": "3.7.13"
  },
  "orig_nbformat": 4,
  "vscode": {
   "interpreter": {
    "hash": "bb4896eba2e43e817e326f95005b77416bfc5ca3345d6b1e7240300d542134ef"
   }
  }
 },
 "nbformat": 4,
 "nbformat_minor": 2
}
